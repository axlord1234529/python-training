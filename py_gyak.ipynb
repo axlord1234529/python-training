{
 "cells": [
  {
   "cell_type": "markdown",
   "metadata": {},
   "source": [
    "### 1.1 Hello World"
   ]
  },
  {
   "cell_type": "code",
   "execution_count": null,
   "metadata": {},
   "outputs": [],
   "source": [
    "print(\"Hello World!\")"
   ]
  },
  {
   "cell_type": "markdown",
   "metadata": {},
   "source": [
    "### 1.3 Név, email, cím"
   ]
  },
  {
   "cell_type": "code",
   "execution_count": null,
   "metadata": {},
   "outputs": [],
   "source": [
    "print(\"Kalmár Sándor\")\n",
    "print(\"valami@gmail.com\")\n",
    "print(\"Petőfi utca 12\")"
   ]
  },
  {
   "cell_type": "markdown",
   "metadata": {},
   "source": [
    "### 2.1. Változók létrehozása"
   ]
  },
  {
   "cell_type": "code",
   "execution_count": null,
   "metadata": {},
   "outputs": [],
   "source": [
    "a , b, c = 5, 6, 7\n",
    "print(a)\n",
    "print(b)\n",
    "print(c)"
   ]
  },
  {
   "cell_type": "markdown",
   "metadata": {},
   "source": [
    "### 2.2. Adatok kiírása String változókkal"
   ]
  },
  {
   "cell_type": "code",
   "execution_count": null,
   "metadata": {},
   "outputs": [],
   "source": [
    "name = \"Teszt Elek\"\n",
    "email = \"elek@valami.com\"\n",
    "address = \"9999 Kukutyin, Kiskukutyin u. 6.\"\n",
    "\n",
    "print(f\"Name: {name} \\nE-mail: {email} \\nAddress: {address}\")\n"
   ]
  },
  {
   "cell_type": "markdown",
   "metadata": {},
   "source": [
    "### 2.3 Változók cseréje"
   ]
  },
  {
   "cell_type": "code",
   "execution_count": null,
   "metadata": {},
   "outputs": [],
   "source": [
    "a = 7\n",
    "b = 3\n",
    "\n",
    "# Ide írjuk az új sorokat\n",
    "a,b = b,a\n",
    "print(f\"a={a}; b={b}\")"
   ]
  },
  {
   "cell_type": "markdown",
   "metadata": {},
   "source": [
    "### 3.1. Dolgozatértékelés"
   ]
  },
  {
   "cell_type": "code",
   "execution_count": null,
   "metadata": {},
   "outputs": [],
   "source": [
    "while True:\n",
    "\n",
    "    max_points = input(\"Kérem a dolgozat max. pontszámát: \")\n",
    "    if not max_points.isdecimal():\n",
    "        print(\"Csak pozitív egész számok!\")\n",
    "        continue\n",
    "    elif int(max_points) == 0:\n",
    "        print(\"Nem lehet nulla!\")\n",
    "        continue\n",
    "\n",
    "    points = input(\"Kérem a dolgozat aktuális pontszámát: \")\n",
    "    if not points.isdecimal():\n",
    "        print(\"Csak pozitív egész számok!\")\n",
    "        continue\n",
    "    elif int(max_points) < int(points):\n",
    "        print(\"Aktuális pontszám nem lehet magasabb mint max. pontszám!\")\n",
    "        continue\n",
    "    \n",
    "    \n",
    "    percentage = round(int(points)/int(max_points)*100, 2)\n",
    "    print(f\"A dolgozat {percentage} %-os lett\")\n",
    "    break\n",
    "    \n"
   ]
  },
  {
   "cell_type": "markdown",
   "metadata": {},
   "source": [
    "### 3.2 Fahrenheit"
   ]
  },
  {
   "cell_type": "code",
   "execution_count": null,
   "metadata": {},
   "outputs": [],
   "source": [
    "while True:\n",
    "    try:\n",
    "        celsius = float(input(\"Kérem a Celsius-fok értéket: \"))\n",
    "        fahrenheit = 9/5 * celsius + 32\n",
    "        print(f\"Fahrenheitben: {round(fahrenheit,1)}\")\n",
    "        break\n",
    "    except ValueError:\n",
    "        print(\"Csak számok!\")\n",
    "        continue"
   ]
  },
  {
   "cell_type": "markdown",
   "metadata": {},
   "source": [
    "### 3.3. Téglatest"
   ]
  },
  {
   "cell_type": "code",
   "execution_count": null,
   "metadata": {},
   "outputs": [],
   "source": [
    "while True:\n",
    "    try:\n",
    "        a = float(input(\"a=\"))\n",
    "        b = float(input(\"b=\"))\n",
    "        c = float(input(\"c=\"))\n",
    "\n",
    "        area = 2*(a*b + b*c + a*c)\n",
    "        volume = a*b*c\n",
    "\n",
    "        print(f\"Felszín: {round(area,1)}\".replace(\".\",\",\"))\n",
    "        print(f\"Térfogat: {round(volume,1)}\".replace(\".\",\",\"))\n",
    "        break\n",
    "    except ValueError:\n",
    "        print(\"Csak számok!\")\n",
    "        continue"
   ]
  },
  {
   "cell_type": "markdown",
   "metadata": {},
   "source": [
    "### 3.4. Adószámoló"
   ]
  },
  {
   "cell_type": "code",
   "execution_count": null,
   "metadata": {},
   "outputs": [],
   "source": [
    "while True:\n",
    "    try:\n",
    "        income = int(input(\"Bevétel: \"))\n",
    "        expense = int(input(\"Kiadás: \"))\n",
    "        \n",
    "\n",
    "        business_tax = (income / 100) * 2\n",
    "        profit = income - expense\n",
    "        afa = (profit/100) * 20\n",
    "        net_profit = profit - afa\n",
    "        corporate_tax = (net_profit/100) * 15\n",
    "\n",
    "\n",
    "        print(f\"Bevétel: {income}\")\n",
    "        print(f\"Kiadás: {expense}\")\n",
    "        print(f\"Iparüzési adó: {business_tax} Ft\")\n",
    "        print(f\"nyereség: {profit} Ft\")\n",
    "        print(f\"ÁFA: {afa}\")\n",
    "        print(f\"Nettó nyereség: {net_profit} Ft\")\n",
    "        print(f\"Társalgási adó: {corporate_tax} Ft\")\n",
    "        \n",
    "        break\n",
    "    except ValueError:\n",
    "        print(\"Csak egész számok!\")\n",
    "        continue"
   ]
  },
  {
   "cell_type": "markdown",
   "metadata": {},
   "source": [
    "### 4.4. Csempézés\n"
   ]
  },
  {
   "cell_type": "code",
   "execution_count": null,
   "metadata": {},
   "outputs": [],
   "source": [
    "import math\n",
    "while True:\n",
    "    try:\n",
    "        height = float(input(\"A szoba magassága: \"))*100\n",
    "        width = float(input(\"A szoba szélessége: \"))*100\n",
    "        length = float(input(\"A szoba hosszúsága: \"))*100\n",
    "\n",
    "        area_side1 = height * length\n",
    "        area_side2 = height * width\n",
    "\n",
    "        tiles_side1 = math.ceil(area_side1 / (25*25))\n",
    "        tiles_side2 = math.ceil(area_side2 / (25*25))\n",
    "\n",
    "        total = 2 * (tiles_side1 + tiles_side2) \n",
    "        \n",
    "        print(f\"A szoba kicsempézéséhez {total} csempe kell.\")\n",
    "        break\n",
    "    except ValueError:\n",
    "        print(\"Csak számok!\")\n",
    "        continue"
   ]
  },
  {
   "cell_type": "markdown",
   "metadata": {},
   "source": [
    "### 5.1. Palacsinta"
   ]
  },
  {
   "cell_type": "code",
   "execution_count": null,
   "metadata": {},
   "outputs": [],
   "source": [
    "while True:\n",
    "    try:\n",
    "        min = int(input(\"Mennyi ideig sült a palacsinta? \"))\n",
    "        if(min < 0):\n",
    "            raise ValueError\n",
    "        \n",
    "        match min:\n",
    "            case 1 | 2:\n",
    "                print(\"A palacsinta nyers.\")\n",
    "                break\n",
    "            case 3 | 4:\n",
    "                print(\"A palacsinta jó.\")\n",
    "                break\n",
    "\n",
    "        print(\"A palacsinta égett.\")\n",
    "        break\n",
    "    except ValueError:\n",
    "        print(\"Csak pozitív egész számok!\")\n",
    "        continue"
   ]
  },
  {
   "cell_type": "markdown",
   "metadata": {},
   "source": [
    "### 5.2. Autóvezetés"
   ]
  },
  {
   "cell_type": "code",
   "execution_count": null,
   "metadata": {},
   "outputs": [],
   "source": [
    "while True:\n",
    "    try:\n",
    "        age = int(input(\"Hány éves? \"))\n",
    "        if(age < 0):\n",
    "            raise ValueError\n",
    "        \n",
    "        if(age >= 17):\n",
    "            print(\"Vezethet autót.\")\n",
    "            break\n",
    "\n",
    "        print(\"Nem vezethet autót.\")\n",
    "        break\n",
    "    except ValueError:\n",
    "        print(\"Csak pozitív egész számok!\")\n",
    "        continue"
   ]
  },
  {
   "cell_type": "markdown",
   "metadata": {},
   "source": [
    "### 5.3. Foglalkozás"
   ]
  },
  {
   "cell_type": "code",
   "execution_count": null,
   "metadata": {},
   "outputs": [],
   "source": [
    "while True:\n",
    "    try:\n",
    "        age = int(input(\"Hány éves? \"))\n",
    "        if age < 0 or age > 130:\n",
    "            raise ValueError\n",
    "        \n",
    "        occupation = \"\"\n",
    "        if age <= 5:\n",
    "            occupation = \"gyerek\"\n",
    "        elif age <= 18:\n",
    "            occupation = \"iskolás\"\n",
    "        elif age <= 64:\n",
    "            occupation = \"dolgozó\"\n",
    "        elif age >= 65: \n",
    "            occupation = \"nyugdíjas\"\n",
    "\n",
    "        print(f\"A foglalkozás: {occupation}\")\n",
    "        break\n",
    "    except ValueError:\n",
    "        print(\"Hibás bevitel.\")\n",
    "        continue"
   ]
  },
  {
   "cell_type": "markdown",
   "metadata": {},
   "source": [
    "### 5.4. Gyorshajtás"
   ]
  },
  {
   "cell_type": "code",
   "execution_count": null,
   "metadata": {},
   "outputs": [],
   "source": [
    "while True:\n",
    "    try:\n",
    "        speed_limit = 50\n",
    "\n",
    "        exceeded_speed = int(input(\"Hány km/h-val ment? \"))\n",
    "\n",
    "        if age < 0 or age > 130:\n",
    "            raise ValueError\n",
    "\n",
    "        if exceeded_speed <= speed_limit:\n",
    "            print(\"Ön szabályosan hajtott.\")\n",
    "            break\n",
    "        elif exceeded_speed <= 65:\n",
    "            penalty = 0\n",
    "            print(f\"Az Ön büntetése {penalty},- Ft.\")\n",
    "            break\n",
    "        elif exceeded_speed <= 75:\n",
    "            penalty = 30000\n",
    "            print(f\"Az Ön büntetése {penalty},- Ft.\")\n",
    "            break\n",
    "        elif exceeded_speed <= 85:\n",
    "            penalty = 45000\n",
    "            print(f\"Az Ön büntetése {penalty},- Ft.\")\n",
    "            break\n",
    "        elif exceeded_speed <= 95:\n",
    "            penalty = 60000\n",
    "            print(f\"Az Ön büntetése {penalty},- Ft.\")\n",
    "            break\n",
    "        elif exceeded_speed <= 105:\n",
    "            penalty = 90000\n",
    "            print(f\"Az Ön büntetése {penalty},- Ft.\")\n",
    "            break\n",
    "        elif exceeded_speed <= 115:\n",
    "            penalty = 130000\n",
    "            print(f\"Az Ön büntetése {penalty},- Ft.\")\n",
    "            break\n",
    "        else:\n",
    "            penalty = 300000\n",
    "            print(f\"Az Ön büntetése {penalty},- Ft.\")\n",
    "            break\n",
    "        \n",
    "    except ValueError:\n",
    "        print(\"Csak pozitív egész számok\")\n",
    "        continue"
   ]
  },
  {
   "cell_type": "markdown",
   "metadata": {},
   "source": [
    "### 5.5. Számológép"
   ]
  },
  {
   "cell_type": "code",
   "execution_count": null,
   "metadata": {},
   "outputs": [],
   "source": [
    "class InvalidOperationError(Exception):\n",
    "    def __str__(self):\n",
    "        return(\"Hibás művelet\")\n",
    "\n",
    "operations = { 1 : \"összeadás\", 2 : \"kivonás\", 3 : \"szorzás\", 4 : \"osztás\" }\n",
    "\n",
    "for key,operation in operations.items():\n",
    "    print(f\"{key}.) {operation}\")\n",
    "\n",
    "try:\n",
    "\n",
    "    operation_in = input(\"Melyik műveletet hajtsam végre? \")\n",
    "    if operation_in not in map(str,operations.keys()): \n",
    "        raise(InvalidOperationError)\n",
    "\n",
    "    num1 = int(input(\"Kérem az egyik számot: \"))\n",
    "    num2 = int(input(\"Kérem a másik számot: \"))\n",
    "\n",
    "    match operation_in:\n",
    "        case \"1\":\n",
    "            print(f\"Az eredmény:{num1+num2}\")\n",
    "        case \"2\":\n",
    "            print(f\"Az eredmény:{num1-num2}\")\n",
    "        case \"3\":\n",
    "            print(f\"Az eredmény:{num1*num2}\")\n",
    "        case \"4\":\n",
    "            print(f\"Az eredmény:{num1/num2}\")\n",
    "except ValueError:\n",
    "    print(\"Csak egész szám\")            \n",
    "except ZeroDivisionError:\n",
    "    print(\"Nullával való osztás.\")\n",
    "except InvalidOperationError as error:\n",
    "    print(error)\n",
    "\n",
    "        "
   ]
  },
  {
   "cell_type": "markdown",
   "metadata": {},
   "source": [
    "### 42.1. Fibonacci-számok\n",
    "Site that helped = https://www.imaginationstationtoledo.org/about/blog/the-fibonacci-sequence#:~:text=The%20Fibonacci%20sequence%20is%20the,233%2C%20377%2C%20610%2C%20%E2%80%A6\n",
    "\n",
    "\n",
    "\n"
   ]
  },
  {
   "cell_type": "code",
   "execution_count": null,
   "metadata": {},
   "outputs": [],
   "source": [
    "def fibonacci(n):\n",
    "    if n == 1 or n == 2:\n",
    "        return 1\n",
    "\n",
    "    return fibonacci(n - 1) + fibonacci(n - 2)\n",
    "\n",
    "n = int(input(\"Hány Fibonacci-számot kérsz? \"))\n",
    "\n",
    "if(n > 0):\n",
    "   for x in range(1,n + 1):\n",
    "    print(fibonacci(x))\n"
   ]
  },
  {
   "cell_type": "markdown",
   "metadata": {},
   "source": [
    "### 42.2. Hatványozás\n"
   ]
  },
  {
   "cell_type": "code",
   "execution_count": null,
   "metadata": {},
   "outputs": [],
   "source": [
    "def hatvany(alap, kitevo):\n",
    "\n",
    "    if kitevo == 0:\n",
    "        return 1\n",
    "    \n",
    "    return alap * hatvany(alap,kitevo-1)\n",
    "\n",
    "try:\n",
    "\n",
    "    alap = float(input(\"Kérem az alapot! \"))\n",
    "    kitevo = int(input(\"Kérem az kitevőt! \"))\n",
    "\n",
    "    print(hatvany(alap,kitevo))\n",
    "\n",
    "except ValueError:\n",
    "    print(\"Hibás adat!\")\n",
    "\n"
   ]
  },
  {
   "cell_type": "markdown",
   "metadata": {},
   "source": [
    "### 42.3 Hanoi-tornyai\n",
    "\n",
    "Visualization that helped: [http://towersofhanoi.info/Animate.aspx](http://towersofhanoi.info/Animate.aspx)\n",
    "\n",
    "Mikor visualizációt kerestem a Hanoi-tornyai játékhoz YouTube-on, véletlenül lespoiler-eztem magamnak a következő logikát, ami alapjául szolgált a megoldásomnak.\n",
    "\n",
    "Egy n korongból álló torony áthelyezése úgy oldható meg, hogy először az n-1 korongos tornyot átvisszük a tartalékrúdra, majd a n-edik korongot a célrúdra helyezzük, végül pedig az n-1 korongos tornyot áthelyezzük a tartalékrúdról a célrúdra.\n",
    "\n"
   ]
  },
  {
   "cell_type": "code",
   "execution_count": null,
   "metadata": {},
   "outputs": [],
   "source": [
    "def move (disk,start,end):\n",
    "    print(f\"{disk}. korong {start} -=> {end}\")\n",
    "    \n",
    "def hanoi(darab, forras, cel, tartalek):\n",
    "    if darab == 1:\n",
    "        return move(darab,forras,cel)\n",
    "    \n",
    "    hanoi(darab-1,forras,tartalek,cel )\n",
    "    move(darab,forras,cel)\n",
    "    hanoi(darab-1, tartalek,cel,forras)\n",
    "\n",
    "n = int(input(\"Mekkora a torony? \"))\n",
    "hanoi(4,\"A\",\"C\",\"B\")"
   ]
  },
  {
   "cell_type": "markdown",
   "metadata": {},
   "source": [
    "### 42.4 A,b,c betűsorozat\n",
    "\n",
    "The Video that helped with all of the recursive exercises:<br> [https://www.youtube.com/watch?v=ngCos392W4w&ab_channel=Reducible](https://www.youtube.com/watch?v=ngCos392W4w&ab_channel=Reducible)"
   ]
  },
  {
   "cell_type": "code",
   "execution_count": null,
   "metadata": {},
   "outputs": [],
   "source": [
    "def generator(darab,eddig = \"\"):\n",
    "    characters = (\"a\",\"b\",\"c\")\n",
    "    \n",
    "    if(darab == 0):\n",
    "        return \"\"\n",
    "    elif(darab == 1):\n",
    "        return \"a b c\"\n",
    "\n",
    "\n",
    "    if(eddig):\n",
    "\n",
    "        eddig_list = eddig.split()\n",
    "        result_list = []\n",
    "\n",
    "        for item in eddig_list:\n",
    "            for character in characters:\n",
    "                result_list.append(item+character)\n",
    "\n",
    "        result = '\\n'.join(result_list)\n",
    "        return result        \n",
    "\n",
    "    return generator(darab,generator(darab-1,eddig))\n",
    "\n",
    "n = input(\"Hány betűs a, b, c betűkből álló sorozatot generáljak? \")\n",
    "print(generator(int(n)))"
   ]
  },
  {
   "cell_type": "code",
   "execution_count": null,
   "metadata": {},
   "outputs": [],
   "source": [
    "    \n",
    "characters = (\"a\",\"b\",\"c\")\n",
    "eddig = \"a b c\"\n",
    "\n",
    "eddig_list = eddig.split()\n",
    "\n",
    "result_list = []\n",
    "for index, item in enumerate(eddig_list):\n",
    "    for character in characters:\n",
    "        result_list.append(item+character)\n",
    "\n",
    "print('\\n'.join(result_list))"
   ]
  }
 ],
 "metadata": {
  "kernelspec": {
   "display_name": "Python 3",
   "language": "python",
   "name": "python3"
  },
  "language_info": {
   "codemirror_mode": {
    "name": "ipython",
    "version": 3
   },
   "file_extension": ".py",
   "mimetype": "text/x-python",
   "name": "python",
   "nbconvert_exporter": "python",
   "pygments_lexer": "ipython3",
   "version": "3.11.4"
  },
  "orig_nbformat": 4
 },
 "nbformat": 4,
 "nbformat_minor": 2
}
