{
 "cells": [
  {
   "cell_type": "markdown",
   "metadata": {},
   "source": [
    "### 1.1 Hello World"
   ]
  },
  {
   "cell_type": "code",
   "execution_count": null,
   "metadata": {},
   "outputs": [],
   "source": [
    "print(\"Hello World!\")"
   ]
  },
  {
   "cell_type": "markdown",
   "metadata": {},
   "source": [
    "### 1.3 Név, email, cím"
   ]
  },
  {
   "cell_type": "code",
   "execution_count": null,
   "metadata": {},
   "outputs": [],
   "source": [
    "print(\"Kalmár Sándor\")\n",
    "print(\"valami@gmail.com\")\n",
    "print(\"Petőfi utca 12\")"
   ]
  },
  {
   "cell_type": "markdown",
   "metadata": {},
   "source": [
    "### 2.1. Változók létrehozása"
   ]
  },
  {
   "cell_type": "code",
   "execution_count": null,
   "metadata": {},
   "outputs": [],
   "source": [
    "a , b, c = 5, 6, 7\n",
    "print(a)\n",
    "print(b)\n",
    "print(c)"
   ]
  },
  {
   "cell_type": "markdown",
   "metadata": {},
   "source": [
    "### 2.2. Adatok kiírása String változókkal"
   ]
  },
  {
   "cell_type": "code",
   "execution_count": null,
   "metadata": {},
   "outputs": [],
   "source": [
    "name = \"Teszt Elek\"\n",
    "email = \"elek@valami.com\"\n",
    "address = \"9999 Kukutyin, Kiskukutyin u. 6.\"\n",
    "\n",
    "print(f\"Name: {name} \\nE-mail: {email} \\nAddress: {address}\")\n"
   ]
  },
  {
   "cell_type": "markdown",
   "metadata": {},
   "source": [
    "### 2.3 Változók cseréje"
   ]
  },
  {
   "cell_type": "code",
   "execution_count": null,
   "metadata": {},
   "outputs": [],
   "source": [
    "a = 7\n",
    "b = 3\n",
    "\n",
    "# Ide írjuk az új sorokat\n",
    "a,b = b,a\n",
    "print(f\"a={a}; b={b}\")"
   ]
  },
  {
   "cell_type": "markdown",
   "metadata": {},
   "source": [
    "### 3.1. Dolgozatértékelés"
   ]
  },
  {
   "cell_type": "code",
   "execution_count": null,
   "metadata": {},
   "outputs": [],
   "source": [
    "while True:\n",
    "\n",
    "    max_points = input(\"Kérem a dolgozat max. pontszámát: \")\n",
    "    if not max_points.isdecimal():\n",
    "        print(\"Csak pozitív egész számok!\")\n",
    "        continue\n",
    "    elif int(max_points) == 0:\n",
    "        print(\"Nem lehet nulla!\")\n",
    "        continue\n",
    "\n",
    "    points = input(\"Kérem a dolgozat aktuális pontszámát: \")\n",
    "    if not points.isdecimal():\n",
    "        print(\"Csak pozitív egész számok!\")\n",
    "        continue\n",
    "    elif int(max_points) < int(points):\n",
    "        print(\"Aktuális pontszám nem lehet magasabb mint max. pontszám!\")\n",
    "        continue\n",
    "    \n",
    "    \n",
    "    percentage = round(int(points)/int(max_points)*100, 2)\n",
    "    print(f\"A dolgozat {percentage} %-os lett\")\n",
    "    break\n",
    "    \n"
   ]
  },
  {
   "cell_type": "markdown",
   "metadata": {},
   "source": [
    "### 3.2 Fahrenheit"
   ]
  },
  {
   "cell_type": "code",
   "execution_count": null,
   "metadata": {},
   "outputs": [],
   "source": [
    "while True:\n",
    "    try:\n",
    "        celsius = float(input(\"Kérem a Celsius-fok értéket: \"))\n",
    "        fahrenheit = 9/5 * celsius + 32\n",
    "        print(f\"Fahrenheitben: {round(fahrenheit,1)}\")\n",
    "        break\n",
    "    except ValueError:\n",
    "        print(\"Csak számok!\")\n",
    "        continue"
   ]
  },
  {
   "cell_type": "markdown",
   "metadata": {},
   "source": [
    "### 3.3. Téglatest"
   ]
  },
  {
   "cell_type": "code",
   "execution_count": null,
   "metadata": {},
   "outputs": [],
   "source": [
    "while True:\n",
    "    try:\n",
    "        a = float(input(\"a=\"))\n",
    "        b = float(input(\"b=\"))\n",
    "        c = float(input(\"c=\"))\n",
    "\n",
    "        area = 2*(a*b + b*c + a*c)\n",
    "        volume = a*b*c\n",
    "\n",
    "        print(f\"Felszín: {round(area,1)}\".replace(\".\",\",\"))\n",
    "        print(f\"Térfogat: {round(volume,1)}\".replace(\".\",\",\"))\n",
    "        break\n",
    "    except ValueError:\n",
    "        print(\"Csak számok!\")\n",
    "        continue"
   ]
  },
  {
   "cell_type": "markdown",
   "metadata": {},
   "source": [
    "### 3.4. Adószámoló"
   ]
  },
  {
   "cell_type": "code",
   "execution_count": null,
   "metadata": {},
   "outputs": [],
   "source": [
    "while True:\n",
    "    try:\n",
    "        income = int(input(\"Bevétel: \"))\n",
    "        expense = int(input(\"Kiadás: \"))\n",
    "        \n",
    "\n",
    "        business_tax = (income / 100) * 2\n",
    "        profit = income - expense\n",
    "        afa = (profit/100) * 20\n",
    "        net_profit = profit - afa\n",
    "        corporate_tax = (net_profit/100) * 15\n",
    "\n",
    "\n",
    "        print(f\"Bevétel: {income}\")\n",
    "        print(f\"Kiadás: {expense}\")\n",
    "        print(f\"Iparüzési adó: {business_tax} Ft\")\n",
    "        print(f\"nyereség: {profit} Ft\")\n",
    "        print(f\"ÁFA: {afa}\")\n",
    "        print(f\"Nettó nyereség: {net_profit} Ft\")\n",
    "        print(f\"Társalgási adó: {corporate_tax} Ft\")\n",
    "        \n",
    "        break\n",
    "    except ValueError:\n",
    "        print(\"Csak egész számok!\")\n",
    "        continue"
   ]
  },
  {
   "cell_type": "markdown",
   "metadata": {},
   "source": [
    "### 4.4. Csempézés\n"
   ]
  },
  {
   "cell_type": "code",
   "execution_count": null,
   "metadata": {},
   "outputs": [],
   "source": [
    "import math\n",
    "while True:\n",
    "    try:\n",
    "        height = float(input(\"A szoba magassága: \"))*100\n",
    "        width = float(input(\"A szoba szélessége: \"))*100\n",
    "        length = float(input(\"A szoba hosszúsága: \"))*100\n",
    "\n",
    "        area_side1 = height * length\n",
    "        area_side2 = height * width\n",
    "\n",
    "        tiles_side1 = math.ceil(area_side1 / (25*25))\n",
    "        tiles_side2 = math.ceil(area_side2 / (25*25))\n",
    "\n",
    "        total = 2 * (tiles_side1 + tiles_side2) \n",
    "        \n",
    "        print(f\"A szoba kicsempézéséhez {total} csempe kell.\")\n",
    "        break\n",
    "    except ValueError:\n",
    "        print(\"Csak számok!\")\n",
    "        continue"
   ]
  },
  {
   "cell_type": "markdown",
   "metadata": {},
   "source": [
    "### 5.1. Palacsinta"
   ]
  },
  {
   "cell_type": "code",
   "execution_count": null,
   "metadata": {},
   "outputs": [],
   "source": [
    "while True:\n",
    "    try:\n",
    "        min = int(input(\"Mennyi ideig sült a palacsinta? \"))\n",
    "        if(min < 0):\n",
    "            raise ValueError\n",
    "        \n",
    "        match min:\n",
    "            case 1 | 2:\n",
    "                print(\"A palacsinta nyers.\")\n",
    "                break\n",
    "            case 3 | 4:\n",
    "                print(\"A palacsinta jó.\")\n",
    "                break\n",
    "\n",
    "        print(\"A palacsinta égett.\")\n",
    "        break\n",
    "    except ValueError:\n",
    "        print(\"Csak pozitív egész számok!\")\n",
    "        continue"
   ]
  },
  {
   "cell_type": "markdown",
   "metadata": {},
   "source": [
    "### 5.2. Autóvezetés"
   ]
  },
  {
   "cell_type": "code",
   "execution_count": null,
   "metadata": {},
   "outputs": [],
   "source": [
    "while True:\n",
    "    try:\n",
    "        age = int(input(\"Hány éves? \"))\n",
    "        if(age < 0):\n",
    "            raise ValueError\n",
    "        \n",
    "        if(age >= 17):\n",
    "            print(\"Vezethet autót.\")\n",
    "            break\n",
    "\n",
    "        print(\"Nem vezethet autót.\")\n",
    "        break\n",
    "    except ValueError:\n",
    "        print(\"Csak pozitív egész számok!\")\n",
    "        continue"
   ]
  },
  {
   "cell_type": "markdown",
   "metadata": {},
   "source": [
    "### 5.3. Foglalkozás"
   ]
  },
  {
   "cell_type": "code",
   "execution_count": null,
   "metadata": {},
   "outputs": [],
   "source": [
    "while True:\n",
    "    try:\n",
    "        age = int(input(\"Hány éves? \"))\n",
    "        if age < 0 or age > 130:\n",
    "            raise ValueError\n",
    "        \n",
    "        occupation = \"\"\n",
    "        if age <= 5:\n",
    "            occupation = \"gyerek\"\n",
    "        elif age <= 18:\n",
    "            occupation = \"iskolás\"\n",
    "        elif age <= 64:\n",
    "            occupation = \"dolgozó\"\n",
    "        elif age >= 65: \n",
    "            occupation = \"nyugdíjas\"\n",
    "\n",
    "        print(f\"A foglalkozás: {occupation}\")\n",
    "        break\n",
    "    except ValueError:\n",
    "        print(\"Hibás bevitel.\")\n",
    "        continue"
   ]
  },
  {
   "cell_type": "markdown",
   "metadata": {},
   "source": [
    "### 5.4. Gyorshajtás"
   ]
  },
  {
   "cell_type": "code",
   "execution_count": null,
   "metadata": {},
   "outputs": [],
   "source": [
    "while True:\n",
    "    try:\n",
    "        speed_limit = 50\n",
    "\n",
    "        exceeded_speed = int(input(\"Hány km/h-val ment? \"))\n",
    "\n",
    "        if exceeded_speed < 0 or exceeded_speed > 130:\n",
    "            raise ValueError\n",
    "\n",
    "        if exceeded_speed <= speed_limit:\n",
    "            print(\"Ön szabályosan hajtott.\")\n",
    "            break\n",
    "        elif exceeded_speed <= 65:\n",
    "            penalty = 0\n",
    "            print(f\"Az Ön büntetése {penalty},- Ft.\")\n",
    "            break\n",
    "        elif exceeded_speed <= 75:\n",
    "            penalty = 30000\n",
    "            print(f\"Az Ön büntetése {penalty},- Ft.\")\n",
    "            break\n",
    "        elif exceeded_speed <= 85:\n",
    "            penalty = 45000\n",
    "            print(f\"Az Ön büntetése {penalty},- Ft.\")\n",
    "            break\n",
    "        elif exceeded_speed <= 95:\n",
    "            penalty = 60000\n",
    "            print(f\"Az Ön büntetése {penalty},- Ft.\")\n",
    "            break\n",
    "        elif exceeded_speed <= 105:\n",
    "            penalty = 90000\n",
    "            print(f\"Az Ön büntetése {penalty},- Ft.\")\n",
    "            break\n",
    "        elif exceeded_speed <= 115:\n",
    "            penalty = 130000\n",
    "            print(f\"Az Ön büntetése {penalty},- Ft.\")\n",
    "            break\n",
    "        elif exceeded_speed <= 125:\n",
    "            penalty = 200000\n",
    "            print(f\"Az Ön büntetése {penalty},- Ft.\")\n",
    "            break\n",
    "        else:\n",
    "            penalty = 300000\n",
    "            print(f\"Az Ön büntetése {penalty},- Ft.\")\n",
    "            break\n",
    "        \n",
    "    except ValueError:\n",
    "        print(\"Csak pozitív egész számok\")\n",
    "        continue"
   ]
  },
  {
   "cell_type": "markdown",
   "metadata": {},
   "source": [
    "### 5.5. Számológép"
   ]
  },
  {
   "cell_type": "code",
   "execution_count": null,
   "metadata": {},
   "outputs": [],
   "source": [
    "class InvalidOperationError(Exception):\n",
    "    def __str__(self):\n",
    "        return(\"Hibás művelet\")\n",
    "\n",
    "operations = { 1 : \"összeadás\", 2 : \"kivonás\", 3 : \"szorzás\", 4 : \"osztás\" }\n",
    "\n",
    "for key,operation in operations.items():\n",
    "    print(f\"{key}.) {operation}\")\n",
    "\n",
    "try:\n",
    "\n",
    "    operation_in = input(\"Melyik műveletet hajtsam végre? \")\n",
    "    if operation_in not in map(str,operations.keys()): \n",
    "        raise(InvalidOperationError)\n",
    "\n",
    "    num1 = int(input(\"Kérem az egyik számot: \"))\n",
    "    num2 = int(input(\"Kérem a másik számot: \"))\n",
    "\n",
    "    match operation_in:\n",
    "        case \"1\":\n",
    "            print(f\"Az eredmény:{num1+num2}\")\n",
    "        case \"2\":\n",
    "            print(f\"Az eredmény:{num1-num2}\")\n",
    "        case \"3\":\n",
    "            print(f\"Az eredmény:{num1*num2}\")\n",
    "        case \"4\":\n",
    "            print(f\"Az eredmény:{num1/num2}\")\n",
    "except ValueError:\n",
    "    print(\"Csak egész szám\")            \n",
    "except ZeroDivisionError:\n",
    "    print(\"Nullával való osztás.\")\n",
    "except InvalidOperationError as error:\n",
    "    print(error)\n",
    "\n",
    "        "
   ]
  },
  {
   "cell_type": "markdown",
   "metadata": {},
   "source": [
    "### 5.6. A konyhában... I."
   ]
  },
  {
   "cell_type": "code",
   "execution_count": null,
   "metadata": {},
   "outputs": [],
   "source": [
    "def calculate_maximum_batches(needed_flour, needed_eggs, needed_sugar, available_flour, available_eggs, available_sugar):\n",
    "    min_batches = min(available_flour / needed_flour, available_eggs / needed_eggs, available_sugar / needed_sugar)\n",
    "    return min_batches\n",
    "\n",
    "needed_flour = int(input(\"Hány deka liszt kell a sütihez? \"))\n",
    "needed_eggs = int(input(\"Hány tojás kell a sütihez? \"))\n",
    "needed_sugar = int(input(\"Hány deka cukor kell a sütihez? \"))\n",
    "\n",
    "available_flour = int(input(\"Hány deka liszt van otthon? \"))\n",
    "available_eggs = int(input(\"Hány tojás van otthon? \"))\n",
    "available_sugar = int(input(\"Hány deka cukor van otthon? \"))\n",
    "\n",
    "batches_needed = calculate_maximum_batches(needed_flour, needed_eggs, needed_sugar, available_flour, available_eggs, available_sugar)\n",
    "\n",
    "print(f\"A megadott mennyiségekből {batches_needed} adag készülhet el.\")"
   ]
  },
  {
   "cell_type": "markdown",
   "metadata": {},
   "source": [
    "### 5.7. A konyhában... II."
   ]
  },
  {
   "cell_type": "code",
   "execution_count": null,
   "metadata": {},
   "outputs": [],
   "source": [
    "import math\n",
    "def calculate_maximum_batches(needed_flour, needed_eggs, needed_sugar, available_flour, available_eggs, available_sugar) -> int:\n",
    "    min_batches = math.ceil(max(available_flour / needed_flour, available_eggs / needed_eggs, available_sugar / needed_sugar))\n",
    "    return min_batches\n",
    "\n",
    "def calculate_amount_needed(batches, available_ingredient, needed_ingredient) -> int:\n",
    "    return (batches * needed_ingredient) - available_ingredient\n",
    "\n",
    "needed_flour = int(input(\"Hány deka liszt kell a sütihez? \"))\n",
    "needed_eggs = int(input(\"Hány tojás kell a sütihez? \"))\n",
    "needed_sugar = int(input(\"Hány deka cukor kell a sütihez? \"))\n",
    "\n",
    "available_flour = int(input(\"Hány deka liszt van otthon? \"))\n",
    "available_eggs = int(input(\"Hány tojás van otthon? \"))\n",
    "available_sugar = int(input(\"Hány deka cukor van otthon? \"))\n",
    "\n",
    "batches_needed = calculate_maximum_batches(needed_flour, needed_eggs, needed_sugar, available_flour, available_eggs, available_sugar)\n",
    "\n",
    "flour_to_buy = calculate_amount_needed(batches_needed,available_flour,needed_flour)\n",
    "eggs_to_buy = calculate_amount_needed(batches_needed,available_eggs,needed_eggs)\n",
    "sugar_to_buy = calculate_amount_needed(batches_needed,available_sugar,needed_sugar)\n",
    "\n",
    "print(f\"Összesen {batches_needed} adagot készítünk.\")\n",
    "\n",
    "print(f\"Venni kell még {flour_to_buy} deka lisztet, {eggs_to_buy} db. tojást és {sugar_to_buy} deka cukrot.\")"
   ]
  },
  {
   "cell_type": "markdown",
   "metadata": {},
   "source": [
    "### 6.1. PIN-kód I."
   ]
  },
  {
   "cell_type": "code",
   "execution_count": null,
   "metadata": {},
   "outputs": [],
   "source": [
    "pin = \"5936\"\n",
    "while True:\n",
    "    pin_in = input(\"PIN: \")\n",
    "    print(f\"PIN: {pin_in}\")\n",
    "\n",
    "    if pin_in == pin: \n",
    "        print(\"Titkos információ\")\n",
    "        break\n",
    "\n",
    "    print(\"Hibás PIN.\")"
   ]
  },
  {
   "cell_type": "markdown",
   "metadata": {},
   "source": [
    "### 6.2. PIN-kód II."
   ]
  },
  {
   "cell_type": "code",
   "execution_count": null,
   "metadata": {},
   "outputs": [],
   "source": [
    "pin = \"5936\"\n",
    "attempts = 0\n",
    "while attempts < 3:\n",
    "    pin_in = input(\"PIN: \")\n",
    "    print(f\"PIN: {pin_in}\")\n",
    "\n",
    "    if pin_in == pin: \n",
    "        print(\"Titkos információ\")\n",
    "        break\n",
    "    \n",
    "    print(\"Hibás PIN.\")\n",
    "\n",
    "    attempts += 1\n",
    "\n",
    "if attempts == 3:\n",
    "    print(\"Nincs több próbálkozási lehetőség!\")"
   ]
  },
  {
   "cell_type": "markdown",
   "metadata": {},
   "source": [
    "### 6.3. Összegző"
   ]
  },
  {
   "cell_type": "code",
   "execution_count": null,
   "metadata": {},
   "outputs": [],
   "source": [
    "num = 0\n",
    "nums = []\n",
    "print(\"Kérem a számokat (-1-re kilép):\")\n",
    "while True:\n",
    "    num = int(input(\"Kérem a számokat (-1-re kilép):\"))\n",
    "    print(num)\n",
    "    if num == -1: break\n",
    "    nums.append(num)\n",
    "\n",
    "\n",
    "def add_nums_in_list(nums : list[int], length : int):\n",
    "    n = length - 1\n",
    "    if n == 0:\n",
    "        return nums[n]\n",
    "    \n",
    "    nums[n] + add_nums_in_list(nums, length - 1)\n",
    "\n",
    "print(add_nums_in_list(nums, len(nums)))"
   ]
  },
  {
   "cell_type": "markdown",
   "metadata": {},
   "source": [
    "### 6.4. Átlagszámítás"
   ]
  },
  {
   "cell_type": "code",
   "execution_count": null,
   "metadata": {},
   "outputs": [],
   "source": [
    "num = 0\n",
    "nums = []\n",
    "print(\"Kérem a számokat (-1-re kilép):\")\n",
    "while True:\n",
    "    num = int(input(\"Kérem a számokat (-1-re kilép):\"))\n",
    "    print(num)\n",
    "    if num == -1: break\n",
    "    nums.append(num)\n",
    "\n",
    "\n",
    "def add_nums_in_list(nums : list[int], length : int):\n",
    "    n = length - 1\n",
    "    if n == 0:\n",
    "        return nums[n]\n",
    "    \n",
    "    return nums[n] + add_nums_in_list(nums, length - 1)\n",
    "\n",
    "print(add_nums_in_list(nums, len(nums)) / len(nums))"
   ]
  },
  {
   "cell_type": "markdown",
   "metadata": {},
   "source": [
    "### 6.5. Kétjegyű"
   ]
  },
  {
   "cell_type": "code",
   "execution_count": null,
   "metadata": {},
   "outputs": [],
   "source": [
    "print(\"Írj be számokat! Ha kétjegyű, kilép!\")\n",
    "while True:\n",
    "    num = input(\"Írj be számokat! Ha kétjegyű, kilép!\")\n",
    "    print(num)\n",
    "    if len(num) == 2: break\n",
    "    print(\"jó szám\")"
   ]
  },
  {
   "cell_type": "markdown",
   "metadata": {},
   "source": [
    "### 6.6. Csillagrajz"
   ]
  },
  {
   "cell_type": "code",
   "execution_count": null,
   "metadata": {},
   "outputs": [],
   "source": [
    "\n",
    "try:\n",
    "    num = int(input(\"Hány csillagot rajzoljak?\"))\n",
    "    print(f\"Hány csillagot rajzoljak? {num}\")\n",
    "\n",
    "    if num > 0:\n",
    "        for n in range(num):\n",
    "            print(\"*\", end='')\n",
    "\n",
    "except ValueError:\n",
    "    print(\"Csak pozitív egész szám!\")\n",
    "    "
   ]
  },
  {
   "cell_type": "markdown",
   "metadata": {},
   "source": [
    "### 6.7 Négyzetszámok I."
   ]
  },
  {
   "cell_type": "code",
   "execution_count": null,
   "metadata": {},
   "outputs": [],
   "source": [
    "\n",
    "try:\n",
    "    n = int(input(\"Az első hány négyzetszámot írjam ki? \"))\n",
    "    print(\"Az első hány négyzetszámot írjam ki?\")\n",
    "    if n is not None and n > 0:\n",
    "        squares = [i**2 for i in range(1, n)]\n",
    "        print(squares)\n",
    "except ValueError:\n",
    "    pass"
   ]
  },
  {
   "cell_type": "markdown",
   "metadata": {},
   "source": [
    "### 6.8. Négyzetszámok II."
   ]
  },
  {
   "cell_type": "code",
   "execution_count": null,
   "metadata": {},
   "outputs": [],
   "source": [
    "def square(n):\n",
    "    if n == 1:\n",
    "        return n\n",
    "    \n",
    "    return n*n\n",
    "\n",
    "edge = int(input(\"Kérem a négyzetszámok határszámát!\"))\n",
    "n = 1 \n",
    "\n",
    "if edge > 0:\n",
    "    while True:\n",
    "        if square(n) > edge:\n",
    "            break\n",
    "\n",
    "        print(square(n),end=' ')\n",
    "\n",
    "        n += 1"
   ]
  },
  {
   "cell_type": "markdown",
   "metadata": {},
   "source": [
    "### 6.9. Fibonacci"
   ]
  },
  {
   "cell_type": "code",
   "execution_count": null,
   "metadata": {},
   "outputs": [],
   "source": [
    "def fibonacci(n):\n",
    "    if n == 1 or n == 2:\n",
    "        return 1\n",
    "\n",
    "    return fibonacci(n - 1) + fibonacci(n - 2)\n",
    "\n",
    "n = int(input(\"A Fibonacci-számsorozatot meddig írjam ki? \"))\n",
    "\n",
    "if(n > 0):\n",
    "   for x in range(1,n + 1):\n",
    "    if fibonacci(x) >= n:\n",
    "       break\n",
    "    print(fibonacci(x),end=' ')\n"
   ]
  },
  {
   "cell_type": "markdown",
   "metadata": {},
   "source": [
    "### 7.1. Számok köbe 1-től 20-ig"
   ]
  },
  {
   "cell_type": "code",
   "execution_count": null,
   "metadata": {},
   "outputs": [],
   "source": [
    "for x in range(1,21):\n",
    "    value = x*x*x\n",
    "    print(value, end=' ')\n",
    "print()"
   ]
  },
  {
   "cell_type": "markdown",
   "metadata": {},
   "source": [
    "### 7.2. Faktoriális"
   ]
  },
  {
   "cell_type": "code",
   "execution_count": null,
   "metadata": {},
   "outputs": [],
   "source": [
    "def fact(n):\n",
    "    if n == 1 or n == 0:\n",
    "        return 1\n",
    "\n",
    "    return n * fact(n-1)\n",
    "\n",
    "print(\"Faktoriális számítás.\")\n",
    "n = int(input(\"n= \"))\n",
    "print(f\"n= {n}\")\n",
    "if n<0:\n",
    "    print(\"-1 faktoriálisát nem értelmezzük.\")\n",
    "else:\n",
    "    print(f\"{n}!= {fact(n)}\")"
   ]
  },
  {
   "cell_type": "markdown",
   "metadata": {},
   "source": [
    "### 7.3. Számok szorzata"
   ]
  },
  {
   "cell_type": "code",
   "execution_count": null,
   "metadata": {},
   "outputs": [],
   "source": [
    "def calc_series(n):\n",
    "    if n <= 0:\n",
    "        raise ValueError(\"Az 'n' értékének pozitívnak kell lennie.\")\n",
    "    \n",
    "    product = 1\n",
    "    for i in range(n):\n",
    "        number = int(input(f\"{i+1}. szám: \"))\n",
    "        product *= number\n",
    "\n",
    "    return product\n",
    "\n",
    "try:\n",
    "    n = int(input(\"Hány számot ad be? \"))\n",
    "    result = calc_series(n)\n",
    "    print(f\"A beírt számok szorzata {result}\")\n",
    "except ValueError as e:\n",
    "    print(e)\n"
   ]
  },
  {
   "cell_type": "markdown",
   "metadata": {},
   "source": [
    "### 7.4. Átlagszámító"
   ]
  },
  {
   "cell_type": "code",
   "execution_count": null,
   "metadata": {},
   "outputs": [],
   "source": [
    "def calc_series_avg(n):\n",
    "    if n <= 0:\n",
    "        raise ValueError(\"Az 'n' értékének pozitívnak kell lennie.\")\n",
    "    \n",
    "    total = 0\n",
    "    for i in range(n):\n",
    "        number = int(input(f\"{i+1}. szám: \"))\n",
    "        total += number\n",
    "\n",
    "    return total / n\n",
    "\n",
    "try:\n",
    "    n = int(input(\"Hány számot ad be? \"))\n",
    "    result = calc_series_avg(n)\n",
    "    print(f\"A beírt számok szorzata {result}\")\n",
    "except ValueError as e:\n",
    "    print(e)\n"
   ]
  },
  {
   "cell_type": "markdown",
   "metadata": {},
   "source": [
    "### 7.5. Szorzótábla"
   ]
  },
  {
   "cell_type": "code",
   "execution_count": null,
   "metadata": {},
   "outputs": [],
   "source": [
    "db = 1\n",
    "for i in range(1,10):\n",
    "    for j in range(1,10):\n",
    "        if db == 9:\n",
    "            print(i*j)\n",
    "            db = 0\n",
    "        else:\n",
    "            print(i*j, end=' ')\n",
    "        db += 1"
   ]
  },
  {
   "cell_type": "markdown",
   "metadata": {},
   "source": [
    "### 7.6. Balra dőlő háromszög"
   ]
  },
  {
   "cell_type": "code",
   "execution_count": null,
   "metadata": {},
   "outputs": [],
   "source": [
    "n = int(input(\"Mekkora legyen a magassága?\"))\n",
    "if n >0:\n",
    "    for i in range(1,n+1):\n",
    "        for j in range(i):\n",
    "            print(\"*\", end='')\n",
    "        print()\n",
    "else:\n",
    "    print(\"A magasságnak pozitívnak kell lennie.\")"
   ]
  },
  {
   "cell_type": "markdown",
   "metadata": {},
   "source": [
    "### 7.7. Jobbra dőlő háromszög"
   ]
  },
  {
   "cell_type": "code",
   "execution_count": null,
   "metadata": {},
   "outputs": [],
   "source": [
    "n = int(input(\"Mekkora legyen a magassága?\"))\n",
    "if n >0:\n",
    "    for i in range(1,n+1):\n",
    "        for k in range(n,i,-1):\n",
    "            print(' ',end='')\n",
    "        for j in range(i):\n",
    "            print(\"*\", end='')\n",
    "        if i != 1:\n",
    "            for l in range(i-1):\n",
    "                print(\"*\", end='')\n",
    "        print()\n",
    "else:\n",
    "    print(\"A magasságnak pozitívnak kell lennie.\")"
   ]
  },
  {
   "cell_type": "markdown",
   "metadata": {},
   "source": [
    "### 7.8. Piramisrajzoló program"
   ]
  },
  {
   "cell_type": "code",
   "execution_count": null,
   "metadata": {},
   "outputs": [],
   "source": [
    "n = int(input(\"Mekkora legyen a magassága?\"))\n",
    "stars = \"\"\n",
    "if n >0:\n",
    "    for i in range(1,n+1):\n",
    "        for k in range(n,i,-1):\n",
    "            print(' ',end='')\n",
    "        for j in range(i):\n",
    "            print(\"*\", end='')\n",
    "        print()\n",
    "else:\n",
    "    print(\"A magasságnak pozitívnak kell lennie.\")"
   ]
  },
  {
   "cell_type": "markdown",
   "metadata": {},
   "source": [
    "### 7.10. Fenyőfarajzoló"
   ]
  },
  {
   "cell_type": "code",
   "execution_count": null,
   "metadata": {},
   "outputs": [],
   "source": [
    "def draw_pine_tree(height):\n",
    "    n = height\n",
    "    if n >0:\n",
    "        for i in range(1,n+1):\n",
    "            for k in range(n,i,-1):\n",
    "                print(' ',end='')\n",
    "            for j in range(i):\n",
    "                print(\"*\", end='')\n",
    "            if i != 1:\n",
    "                for l in range(i-1):\n",
    "                    print(\"*\", end='')\n",
    "            print()\n",
    "    else:\n",
    "        print(\"A magasságnak pozitívnak kell lennie.\")\n",
    "    \n",
    "def draw_trunk(height_of_tree):\n",
    "    for i in range(3):\n",
    "        for j in range(height_of_tree-2):\n",
    "            print(' ',end='')\n",
    "        for k in range(3):\n",
    "            print('*', end='')\n",
    "        print()\n",
    "\n",
    "\n",
    "\n",
    "height = int(input(\"Mekkora legyen a magassága?\"))\n",
    "level = int(input(\"Kérem a szintek számát: \"))\n",
    "\n",
    "for i in range(level):\n",
    "    draw_pine_tree(height)\n",
    "\n",
    "draw_trunk(height)\n",
    "\n",
    "\n",
    "\n"
   ]
  },
  {
   "cell_type": "markdown",
   "metadata": {},
   "source": [
    "### 8.1. Kati olvas"
   ]
  },
  {
   "cell_type": "code",
   "execution_count": null,
   "metadata": {},
   "outputs": [],
   "source": [
    "def read_int(prompt):\n",
    "    while True:\n",
    "        try:\n",
    "            value = int(input(prompt))\n",
    "            if value <= 0:\n",
    "                print(\"Kati, a projekted biztosan legalább 1 könyvet tartalmaz!\")\n",
    "            else:\n",
    "                return value\n",
    "        except ValueError:\n",
    "            print(\"Kérlek egész számot adj meg!\")\n",
    "\n",
    "print(\"Szia Kati!\")\n",
    "num_books = read_int(\"Kérlek írd be, hány könyvet szeretnél elolvasni! \")\n",
    "\n",
    "total_pages = 0\n",
    "num_books_below_120 = 0\n",
    "books = []\n",
    "for i in range(1, num_books + 1):\n",
    "    pages = read_int(f\"A(z) {i}. könyv hány oldalas? \")\n",
    "    books.append(pages)\n",
    "    total_pages += pages\n",
    "\n",
    "    if pages < 120:\n",
    "        num_books_below_120 += 1\n",
    "\n",
    "books.sort()\n",
    "shortest_book = books[0]\n",
    "hours_needed = total_pages / 20\n",
    "days_needed = hours_needed / 2.5\n",
    "\n",
    "print(f\"Összesen {total_pages} oldalt akarsz elolvasni.\")\n",
    "print(f\"A projekt {hours_needed:.1f} óráig fog tartani, és {days_needed:.2f} napot vesz igénybe.\")\n",
    "print(f\"A legrövidebb könyv {shortest_book} oldalas.\")\n",
    "print(f\"A könyvek között {num_books_below_120} db. 120 oldalnál rövidebb könyv van.\")\n"
   ]
  },
  {
   "cell_type": "markdown",
   "metadata": {},
   "source": [
    "### 8.2. Heti hőmérséklet-számoló"
   ]
  },
  {
   "cell_type": "code",
   "execution_count": null,
   "metadata": {},
   "outputs": [],
   "source": [
    "def read_int(prompt):\n",
    "    while True:\n",
    "        try:\n",
    "            value = int(input(prompt))\n",
    "            \n",
    "            return value\n",
    "        except ValueError:\n",
    "            print(\"Kérlek egész számot adj meg!\")\n",
    "\n",
    "total = 0\n",
    "temps = {}\n",
    "for i in range(1,8):\n",
    "    temp = read_int(f\"Kérem a(z) {i}. nap középhőmérsékletét: \")\n",
    "    total += temp\n",
    "    temps[i](temp)\n",
    "\n",
    "values = list(temps.values())\n",
    "\n",
    "if values.count(0) > 0:\n",
    "    print(\"Volt 0 fok alatti középhőmérsékletű nap.\")\n",
    "else:\n",
    "    print(\"Nem volt 0 fok alatti középhőmérsékletű nap.\")\n",
    "\n",
    "avg = total/7\n",
    "print(f\"A heti átlaghőmérséklet {avg:.2f} fok volt.\")\n",
    "print(f\"A héten {values.count(25)} olyan nap volt, amikor 25 foknál melegebb volt.\")\n",
    "sorted()\n",
    "\n",
    "sorted_dict_by_values = {k : v for k, v in sorted(my_dict.items(), key=lambda item: item[1])}\n"
   ]
  },
  {
   "cell_type": "markdown",
   "metadata": {},
   "source": [
    "### 12.1. Diák osztály"
   ]
  },
  {
   "cell_type": "code",
   "execution_count": null,
   "metadata": {},
   "outputs": [],
   "source": [
    "class Diak:\n",
    "    nev = \"\"\n",
    "    szuletesiEv = 0\n",
    "    atlag = 0.0\n",
    "\n",
    "    def kiir(self) -> str:\n",
    "        print(f\"{self.nev} ({self.szuletesiEv}; {self.atlag})\")\n",
    "\n",
    "    def beker(self) -> None:\n",
    "        self.nev = input(\"Kérem a diák nevét!\\n\")\n",
    "        self.szuletesiEv = int(input(\"Kérem a diák születési évét!\\n\"))\n",
    "        self.atlag = float(input(\"Kérem a diák átlagát!\\n\"))\n",
    "\n",
    "\n",
    "jozsi = Diak()\n",
    "jozsi.nev = \"Nagy Jozsef\"\n",
    "jozsi.szuletesiEv = 1999\n",
    "jozsi.atlag = 4.5\n",
    "jozsi.kiir()\n",
    "\n",
    "bekert = Diak()\n",
    "bekert.beker()\n",
    "bekert.kiir()"
   ]
  },
  {
   "cell_type": "markdown",
   "metadata": {},
   "source": [
    "### 12.2. Téglatest osztály"
   ]
  },
  {
   "cell_type": "code",
   "execution_count": null,
   "metadata": {},
   "outputs": [],
   "source": [
    "class Teglatest:\n",
    "    a = 0.0\n",
    "    b = 0.0\n",
    "    c = 0.0\n",
    "\n",
    "    def terfogat(self):\n",
    "        return self.a * self.b * self.c\n",
    "\n",
    "    def felszin(self):\n",
    "        return 2 * (self.a * self.b + self.b * self.c + self.c * self.a)\n",
    "\n",
    "tegla = Teglatest()\n",
    "tegla.a = 24.68\n",
    "tegla.b = 12.34\n",
    "tegla.c = 0.36\n",
    "print(tegla.terfogat())\n",
    "print(tegla.felszin())\n"
   ]
  },
  {
   "cell_type": "markdown",
   "metadata": {},
   "source": [
    "### 12.3. Hőmérő"
   ]
  },
  {
   "cell_type": "code",
   "execution_count": null,
   "metadata": {},
   "outputs": [],
   "source": [
    "class Homero:\n",
    "\n",
    "    @property\n",
    "    def farenheit(self) -> float:\n",
    "        return ((self._celsius*9)/5)+32\n",
    "    \n",
    "    @farenheit.setter\n",
    "    def farenheit(self,value : float) -> None:\n",
    "        self._celsius = ((value - 32) * 5)/9\n",
    "\n",
    "    @property\n",
    "    def celsius(self) -> float:\n",
    "        return self._celsius\n",
    "    \n",
    "    @celsius.setter\n",
    "    def celsius(self,value : float) -> None:\n",
    "        self._celsius = value\n",
    "    \n",
    "ho = Homero()\n",
    "ho.celsius = 0\n",
    "print(ho.farenheit)\n",
    "print(ho.celsius)\n",
    "ho.farenheit = 212\n",
    "print(ho.farenheit)\n",
    "print(ho.celsius)"
   ]
  },
  {
   "cell_type": "markdown",
   "metadata": {},
   "source": [
    "### 12.4. Időpont"
   ]
  },
  {
   "cell_type": "code",
   "execution_count": null,
   "metadata": {},
   "outputs": [],
   "source": [
    "import math\n",
    "class Idopont:\n",
    "    ora = 0\n",
    "    perc = 0\n",
    "    masodperc = 0\n",
    "\n",
    "    def novel(self, mp : int) -> None:\n",
    "        ora_mpben = self.ora * 3600\n",
    "        perc_mpben = self.perc * 60\n",
    "        idopont_mpben =  ora_mpben + perc_mpben + self.masodperc\n",
    "        idopont_mpben += mp\n",
    "\n",
    "        self.ora = math.floor(idopont_mpben / 3600)\n",
    "        perc_oraban = (idopont_mpben / 3600) - self.ora\n",
    "        self.perc = math.floor(perc_oraban*60)\n",
    "        masodperc_percben = (perc_oraban * 60) - self.perc\n",
    "        self.masodperc = round(masodperc_percben*60)\n",
    "\n",
    "        if(self.ora > 23): self.ora = 0\n",
    "\n",
    "\n",
    "\n",
    "    def kiir(self) -> None:\n",
    "        ora = self._format(self.ora)\n",
    "        perc = self._format(self.perc)\n",
    "        masodperc = self._format(self.masodperc)\n",
    "\n",
    "        print(f\"{ora}:{perc}:{masodperc}\")\n",
    "\n",
    "    def _format(self,number : int) -> str:\n",
    "        string = str(number)\n",
    "        if(number < 10):\n",
    "            string = \"0\" + string\n",
    "        return string\n",
    "    \n",
    "ip = Idopont()\n",
    "ip.ora = 23\n",
    "ip.perc = 58\n",
    "ip.masodperc = 50\n",
    "ip.kiir()\n",
    "ip.novel(5)\n",
    "ip.kiir()\n",
    "ip.novel(5)\n",
    "ip.kiir()\n",
    "ip.novel(65)\n",
    "ip.kiir()"
   ]
  },
  {
   "cell_type": "markdown",
   "metadata": {},
   "source": [
    "### 12.5 Alkoholkalkulátor"
   ]
  },
  {
   "cell_type": "code",
   "execution_count": null,
   "metadata": {},
   "outputs": [],
   "source": [
    "class Ital:\n",
    "    nev = \"\"\n",
    "    szazalek = 0.0\n",
    "    ml = 0\n",
    "\n",
    "    def getAlkoholGramm(self) -> float:\n",
    "        return 0.8 * self.ml* self.szazalek/100.0\n",
    "\n",
    "class Ember:\n",
    "    nev = \"\"\n",
    "    kilogramm = 0\n",
    "    alkoholGramm = 0.0\n",
    "\n",
    "    def megiszik(self,ital : Ital) -> None:\n",
    "        self.alkoholGramm += ital.getAlkoholGramm()\n",
    "    \n",
    "    def pihen(self,ora : float) -> None:\n",
    "        self.alkoholGramm -= 9*ora\n",
    "        if(self.alkoholGramm < 0): self.alkoholGramm = 0.0\n",
    "\n",
    "    def veralkoholEzrelek(self) -> float:\n",
    "        ezrelek = (self.alkoholGramm / self.kilogramm) \n",
    "        return ezrelek\n",
    "    \n",
    "    def getJozanIdo(self) -> float:\n",
    "        return self.alkoholGramm / 9\n",
    "    \n",
    "feri = Ember()\n",
    "feri.nev = \"Feri\"\n",
    "feri.kilogramm = 98\n",
    "palinka = Ital()\n",
    "palinka.ml = 50\n",
    "palinka.szazalek = 50\n",
    "print(palinka.getAlkoholGramm())\n",
    "feri.megiszik(palinka)\n",
    "print(feri.veralkoholEzrelek())\n",
    "print(feri.getJozanIdo())\n",
    "feri.pihen(9.3)\n",
    "print(feri.veralkoholEzrelek())\n",
    "print(feri.getJozanIdo())\n",
    "\n",
    "     "
   ]
  },
  {
   "cell_type": "markdown",
   "metadata": {},
   "source": [
    "### 13.1. Diak konstruktor\n"
   ]
  },
  {
   "cell_type": "code",
   "execution_count": null,
   "metadata": {},
   "outputs": [],
   "source": [
    "class Diak:\n",
    "\n",
    "    def __init__(self,nev : str, szuletesiEv : int, atlag : float) -> None:\n",
    "        self._nev = nev\n",
    "        self._szuletesiEv = szuletesiEv\n",
    "        self._atlag = atlag\n",
    "    \n",
    "    @property\n",
    "    def nev(self) -> str:\n",
    "        return self._nev\n",
    "    \n",
    "    @nev.setter    \n",
    "    def nev(self, value : str) -> None:\n",
    "        self._nev = value\n",
    "\n",
    "    @property\n",
    "    def szuletesiEv(self) -> int:\n",
    "        return self._szuletesiEv\n",
    "    \n",
    "    @szuletesiEv.setter    \n",
    "    def nev(self, value : int) -> None:\n",
    "        self._szuletesiEv = value\n",
    "    \n",
    "    @property\n",
    "    def atlag(self) -> float:\n",
    "        return self._atlag\n",
    "    \n",
    "    @atlag.setter    \n",
    "    def atlag(self, value : float) -> None:\n",
    "        self._atlag = value\n",
    "\n",
    "\n",
    "    def kiir(self) -> str:\n",
    "        print(f\"{self.nev} ({self.szuletesiEv}; {self.atlag})\")\n",
    "\n",
    "    def beker(self) -> None:\n",
    "        self.nev = input(\"Kérem a diák nevét!\\n\")\n",
    "        self.szuletesiEv = int(input(\"Kérem a diák születési évét!\\n\"))\n",
    "        self.atlag = float(input(\"Kérem a diák átlagát!\\n\"))\n",
    "\n",
    "jozsi = Diak(\"Nagy Jozsef Leopold\",1999,4.5)\n",
    "print(jozsi.atlag)\n",
    "print(jozsi.nev)\n"
   ]
  },
  {
   "cell_type": "markdown",
   "metadata": {},
   "source": [
    "### 13.2. Teglatest konstruktor"
   ]
  },
  {
   "cell_type": "code",
   "execution_count": null,
   "metadata": {},
   "outputs": [],
   "source": [
    "class Teglatest:\n",
    "    \n",
    "    def __init__(self, *oldalak : float) -> None:\n",
    "        match len(oldalak):\n",
    "            case 0:\n",
    "                raise TypeError(\"At least one argument\")\n",
    "            case 1:\n",
    "                self._a = oldalak[0]\n",
    "                self._b = oldalak[0]\n",
    "                self._c = oldalak[0]\n",
    "            case 2:\n",
    "                self._a = oldalak[0]\n",
    "                self._b = oldalak[0]\n",
    "                self._c = oldalak[1]\n",
    "            case 3:\n",
    "                self._a = oldalak[0]\n",
    "                self._b = oldalak[1]\n",
    "                self._c = oldalak[2]\n",
    "\n",
    "    @property\n",
    "    def a(self) -> float:\n",
    "        return self._a \n",
    "    \n",
    "    @a.setter\n",
    "    def a(self, a : float) -> None:\n",
    "        self._a = a\n",
    "    \n",
    "    @property\n",
    "    def b(self) -> float:\n",
    "        return self._b \n",
    "    \n",
    "    @b.setter\n",
    "    def b(self, b : float) -> None:\n",
    "        self._b = b\n",
    "\n",
    "    @property\n",
    "    def c(self) -> float:\n",
    "        return self._c \n",
    "    \n",
    "    @c.setter\n",
    "    def c(self, c : float) -> None:\n",
    "        self._c = c  \n",
    "\n",
    "    def terfogat(self):\n",
    "        return self._a * self._b * self._c\n",
    "\n",
    "    def felszin(self):\n",
    "        return 2 * (self._a * self._b + self._b * self._c + self._c * self._a)\n",
    "\n",
    "kocka = Teglatest(10)\n",
    "print(kocka.terfogat())\n",
    "negyzetesOszlop = Teglatest(10,20)\n",
    "print(negyzetesOszlop.terfogat())\n",
    "tegla = Teglatest(10,20,30)\n",
    "print(tegla.terfogat())\n",
    "print(tegla.a)\n",
    "print(tegla.b)\n",
    "print(tegla.c)\n"
   ]
  },
  {
   "cell_type": "markdown",
   "metadata": {},
   "source": [
    "### 19.1. Ehető-e még?"
   ]
  },
  {
   "cell_type": "code",
   "execution_count": null,
   "metadata": {},
   "outputs": [],
   "source": [
    "from datetime import datetime,timedelta\n",
    "\n",
    "format = \"%Y.%m.%d.\"\n",
    "format2 = format + \" %H:%M\"\n",
    "now = datetime.now()\n",
    "try:\n",
    "    expiration_date = input(\"Kérem a termék lejárati idejét (yyyy.MM.dd. formátumban)!\")\n",
    "    print(\"Kérem a termék lejárati idejét (yyyy.MM.dd. formátumban)!\")\n",
    "    expiration_date = datetime.strptime(expiration_date,format) + timedelta(hours=23,minutes=59)\n",
    "    print(expiration_date.strftime(format))\n",
    "\n",
    "    edible_date = expiration_date + timedelta(days=10)\n",
    "\n",
    "    opening_time = input(\"Kérem a termék felbontási idejét (yyyy.MM.dd. HH:mm formátumban, vagy egy \\\"-\\\" jelet, ha nincs még felbontva)!\")\n",
    "    print(\"Kérem a termék felbontási idejét (yyyy.MM.dd. HH:mm formátumban, vagy egy \\\"-\\\" jelet, ha nincs még felbontva)!\")\n",
    "    if opening_time != \"-\":\n",
    "\n",
    "        opening_time = datetime.strptime(opening_time,format2)\n",
    "        print(opening_time.strftime(format2))\n",
    "\n",
    "        if opening_time < expiration_date:\n",
    "            if now < opening_time + timedelta(hours=72):\n",
    "                print(\"Még ehető!\")\n",
    "            else:\n",
    "                print(\"Megromlott!\")\n",
    "        elif opening_time > expiration_date:\n",
    "            if opening_time > edible_date:\n",
    "                print(\"Megromlott!\")\n",
    "            elif opening_time < edible_date:\n",
    "                if now < opening_time + timedelta(hours=72) and now < edible_date:\n",
    "                    print(\"Még ehető!\")\n",
    "                else:\n",
    "                    print(\"Megromlott!\")\n",
    "    elif now < edible_date:\n",
    "        print(\"Még ehető!\")\n",
    "    else:\n",
    "        print(\"Megromlott!\")\n",
    "        \n",
    "except ValueError:\n",
    "    print(\"Nem megfelelő formátum.\")"
   ]
  },
  {
   "cell_type": "markdown",
   "metadata": {},
   "source": [
    "### 19.2. Szállásfoglalás lemondása\n",
    "relativedelta -> relative units (moths,years) <br>\n",
    "timedelta -> fixd units (minutes,hours,days)"
   ]
  },
  {
   "cell_type": "code",
   "execution_count": null,
   "metadata": {},
   "outputs": [],
   "source": [
    "from datetime import datetime,timedelta\n",
    "from dateutil.relativedelta import relativedelta\n",
    "def subtract_workdays(date : datetime, days : int) -> datetime:\n",
    "    work_days_subtracted = 0\n",
    "\n",
    "    while work_days_subtracted < days:\n",
    "        date -= timedelta(days=1)\n",
    "        if date.weekday() < 5:\n",
    "            work_days_subtracted += 1\n",
    "\n",
    "    return date\n",
    "\n",
    "format = \"%Y.%m.%d.\"\n",
    "cancellation = datetime.now()\n",
    "print(f\"lemondás: {cancellation.strftime(format)}\")\n",
    "\n",
    "try:\n",
    "    arrival = input(\"Kérem az érkezés napját (yyyy.MM.dd. formátumban)!\")\n",
    "    print(\"Kérem az érkezés napját (yyyy.MM.dd. formátumban)!\")\n",
    "    arrival = datetime.strptime(arrival,format) + timedelta(hours=14)\n",
    "    print(arrival.strftime(format))\n",
    "\n",
    "    if cancellation > arrival - timedelta(hours=24):\n",
    "        print(\"0%-a jár vissza.\")\n",
    "    elif cancellation <= arrival - timedelta(hours=24) and cancellation > subtract_workdays(arrival,3):\n",
    "        print(\"50%-a jár vissza.\")\n",
    "    elif cancellation <= subtract_workdays(arrival,3) and cancellation > arrival - relativedelta(months=1):\n",
    "        print(\"90%-a jár vissza.\")\n",
    "    elif cancellation <= arrival - relativedelta(months=1):\n",
    "        print(\"100%-a jár vissza.\") \n",
    "\n",
    "except ValueError:\n",
    "    print(\"Nem megfelelő formátum.\")\n"
   ]
  },
  {
   "cell_type": "markdown",
   "metadata": {},
   "source": [
    "### 19.3. ...káció, akáció, vakáció   "
   ]
  },
  {
   "cell_type": "code",
   "execution_count": null,
   "metadata": {},
   "outputs": [],
   "source": [
    "from datetime import datetime,date,timedelta\n",
    "class VacationCalc:\n",
    "\n",
    "    def __init__(self,first_day : date, vacations : dict[date,date] = { }, day_swaps : dict[date, date]  = {} ):\n",
    "        self._first_day = first_day\n",
    "        self._vacations = vacations\n",
    "        self._day_swaps = day_swaps\n",
    "\n",
    "    def daysRemaining(self) -> int:\n",
    "        current = date.today()\n",
    "        free_days = self._day_swaps.keys()\n",
    "        extra_days = self._day_swaps.values()\n",
    "        days = 0\n",
    "\n",
    "        if(current >= self._first_day): \n",
    "            return days\n",
    "\n",
    "        while current < self._first_day:\n",
    "            if current.weekday() < 5:\n",
    "\n",
    "                for vac_start,vac_end in self._vacations.items():\n",
    "                    if current >= vac_start and current <= vac_end:\n",
    "                        current = vac_end + timedelta(days = 1)\n",
    "                        break\n",
    "                    \n",
    "                if current not in free_days:\n",
    "                    days += 1        \n",
    "\n",
    "            elif current in extra_days:\n",
    "                days += 1\n",
    "            \n",
    "            current += timedelta(days = 1)\n",
    "        return days\n",
    "\n",
    "    def addVacation(self, start : date, end : date) -> None:\n",
    "        self._vacations[start] = end\n",
    "\n",
    "    def addDaySwap(self, start : date, end : date) -> None:\n",
    "        self._vacations[start] = end\n",
    "\n",
    "\n",
    "try:\n",
    "    format = \"%Y.%m.%d.\"\n",
    "\n",
    "    first_day = input(\"Melyik a nyári vakáció első napja? (yyyy.MM.dd. formátumban) \")\n",
    "    print(\"Melyik a nyári vakáció első napja? (yyyy.MM.dd. formátumban)\")\n",
    "    first_day = datetime.strptime(first_day,format).date()\n",
    "    print(first_day.strftime(format))\n",
    "\n",
    "    calculator = VacationCalc(first_day)\n",
    "\n",
    "    print(\"Évközi szünetek felvitele:\")\n",
    "    while True:\n",
    "        start = input(\"Melyik az évközbeni szünet első napja? (yyyy.MM.dd. formátumban, - jel,ha nincs több.)\")\n",
    "        if(start == \"-\"): break\n",
    "        print(\"Melyik az évközbeni szünet első napja? (yyyy.MM.dd. formátumban, - jel,ha nincs több.)\")\n",
    "        start = datetime.strptime(start,format).date()\n",
    "        print(start.strftime(format))\n",
    "\n",
    "        end = input(\"Melyik az évközbeni szünet utolsó napja? (yyyy.MM.dd. formátumban) \")\n",
    "        print(\"Melyik az évközbeni szünet utolsó napja? (yyyy.MM.dd. formátumban) \")\n",
    "        end = datetime.strptime(end,format).date()\n",
    "        print(end.strftime(format))\n",
    "\n",
    "        calculator.addVacation(start,end)\n",
    "\n",
    "\n",
    "    print(\"Munkanap áthelyezések:\")\n",
    "    while True:\n",
    "        free_day = input(\"Melyik munkanap lesz szünet? (yyyy.MM.dd. formátumban, - jel, ha nincs több.)\")\n",
    "        if(free_day == \"-\"): break\n",
    "        print(\"Melyik munkanap lesz szünet? (yyyy.MM.dd. formátumban, - jel, ha nincs több.)\")\n",
    "        free_day = datetime.strptime(free_day,format).date()\n",
    "        print(free_day)\n",
    "\n",
    "        extra_day = input(\"Melyik szünnapon kell cserébe dolgozni? (yyyy.MM.dd. formátumban)\")\n",
    "        print(\"Melyik szünnapon kell cserébe dolgozni? (yyyy.MM.dd. formátumban)\")\n",
    "        extra_day = datetime.strptime(extra_day,format).date()\n",
    "        print(extra_day.strftime(format))\n",
    "\n",
    "        calculator.addDaySwap(free_day,extra_day)\n",
    "    \n",
    "    print(f\"Hátralévő iskolai napok száma a mai nappal együtt: {calculator.daysRemaining()}\")  \n",
    "\n",
    "except ValueError:\n",
    "    print(\"Nem megfelelő formátum.\")\n",
    "\n",
    "\n"
   ]
  },
  {
   "cell_type": "markdown",
   "metadata": {},
   "source": [
    "### 25.1. Lottózó program"
   ]
  },
  {
   "cell_type": "code",
   "execution_count": null,
   "metadata": {},
   "outputs": [],
   "source": [
    "import random as r\n",
    "\n",
    "class Szelveny:\n",
    "    def __init__(self, nev : str , tippek : set[int]) -> None:\n",
    "        if nev is None or not isinstance(nev,str) or len(nev) == 0:\n",
    "            self._nev = \"Jatekos\"\n",
    "        else:\n",
    "            self._nev = nev\n",
    "\n",
    "        self._tippek = self._validate_tippek(tippek)\n",
    "        self._talalatok_szama = 0\n",
    "\n",
    "    def __eq__(self, other ):\n",
    "        return self._talalatok_szama == other._talalatok_szama\n",
    "\n",
    "    def __lt__(self, other):\n",
    "        return self._talalatok_szama < other._talalatok_szama\n",
    "\n",
    "    @property\n",
    "    def nev(self) -> None:\n",
    "        return self._nev\n",
    "    \n",
    "    @property\n",
    "    def tippek(self) -> None:\n",
    "        return self._tippek\n",
    "    \n",
    "    @property\n",
    "    def talalatok_szama(self) -> None:\n",
    "        return self._talalatok_szama\n",
    "    \n",
    "    def _validate_tippek(self, tippek : set[int]):\n",
    "        if tippek is None or not isinstance(tippek, set) or len(tippek) != 3:\n",
    "            return set()\n",
    "        \n",
    "        if not all(isinstance(item, int) for item in tippek):\n",
    "            try:\n",
    "                tippek =  {int(item) for item in tippek}\n",
    "            except ValueError:\n",
    "                return set()\n",
    "        \n",
    "        if not all(item in range(1,31) for item in tippek):\n",
    "            return set()\n",
    "\n",
    "        \n",
    "        return tippek\n",
    "     \n",
    "\n",
    "    def ertekel(self,nyeroszamok: set[int]):\n",
    "        for nyeroszam in nyeroszamok:\n",
    "            if(nyeroszam in self._tippek):\n",
    "                self._talalatok_szama += 1\n",
    "\n",
    "\n",
    "n = 1\n",
    "players = []\n",
    "while True:\n",
    "    player_name = input(f\"Kérem a(z) {n}. játékos nevét, * karakter, ha nincs több!\")\n",
    "    if player_name == \"*\": break\n",
    "    print(f\"Kérem a(z) {n}. játékos nevét, * karakter, ha nincs több! {player_name}\")\n",
    "    players.append(player_name)\n",
    "    n += 1\n",
    "\n",
    "tips = dict()\n",
    "for player in players:\n",
    "    tips[player] = set()\n",
    "    for n in range(1,4):\n",
    "        while True:\n",
    "            try:\n",
    "                tip = int(input(f\"Kérem {player} nevű játékos {n}. tippjét!\"))\n",
    "                print(f\"Kérem {player} nevű játékos {n}. tippjét! {tip}\")\n",
    "            except ValueError:\n",
    "                print(\"1 és 30 közötti számot kérek szépen!\")\n",
    "                continue\n",
    "\n",
    "            if tip not in range(1,31):\n",
    "                print(\"1 és 30 közötti számot kérek szépen!\")\n",
    "                continue\n",
    "\n",
    "            if tip in tips[player]:\n",
    "                print(\"Ez a szám már volt!\")\n",
    "                continue\n",
    "            \n",
    "            tips[player].add(tip)\n",
    "            break\n",
    "            \n",
    "tickets = []\n",
    "for player,tip in tips.items():\n",
    "    tickets.append(Szelveny(player,tip))\n",
    "\n",
    "\n",
    "wining_numbers = set(r.sample(range(1,31),3))\n",
    "print(\"A nyerő számok: \", end=\" \")\n",
    "for num in wining_numbers:\n",
    "    print(num , end=\" \")\n",
    "print(\"\\n\")\n",
    "\n",
    "for ticket in tickets:\n",
    "    ticket.ertekel(wining_numbers)\n",
    "\n",
    "tickets.sort(reverse=True)\n",
    "\n",
    "for ticket in tickets:\n",
    "    print(f\"{ticket.nev} tippjei: {ticket.tippek} ez {ticket.talalatok_szama}\")\n",
    "\n"
   ]
  },
  {
   "cell_type": "markdown",
   "metadata": {},
   "source": [
    "### 42.1. Fibonacci-számok\n",
    "Site that helped = https://www.imaginationstationtoledo.org/about/blog/the-fibonacci-sequence#:~:text=The%20Fibonacci%20sequence%20is%20the,233%2C%20377%2C%20610%2C%20%E2%80%A6\n",
    "\n",
    "\n",
    "\n"
   ]
  },
  {
   "cell_type": "code",
   "execution_count": null,
   "metadata": {},
   "outputs": [],
   "source": [
    "def fibonacci(n):\n",
    "    if n == 1 or n == 2:\n",
    "        return 1\n",
    "\n",
    "    return fibonacci(n - 1) + fibonacci(n - 2)\n",
    "\n",
    "n = int(input(\"Hány Fibonacci-számot kérsz? \"))\n",
    "\n",
    "if(n > 0):\n",
    "   for x in range(1,n + 1):\n",
    "    print(fibonacci(x))\n"
   ]
  },
  {
   "cell_type": "markdown",
   "metadata": {},
   "source": [
    "### 42.2. Hatványozás\n"
   ]
  },
  {
   "cell_type": "code",
   "execution_count": null,
   "metadata": {},
   "outputs": [],
   "source": [
    "def hatvany(alap, kitevo):\n",
    "\n",
    "    if kitevo == 0:\n",
    "        return 1\n",
    "    \n",
    "    return alap * hatvany(alap,kitevo-1)\n",
    "\n",
    "try:\n",
    "\n",
    "    alap = float(input(\"Kérem az alapot! \"))\n",
    "    kitevo = int(input(\"Kérem az kitevőt! \"))\n",
    "\n",
    "    print(hatvany(alap,kitevo))\n",
    "\n",
    "except ValueError:\n",
    "    print(\"Hibás adat!\")\n",
    "\n"
   ]
  },
  {
   "cell_type": "markdown",
   "metadata": {},
   "source": [
    "### 42.3 Hanoi-tornyai\n",
    "\n",
    "Visualization that helped: [http://towersofhanoi.info/Animate.aspx](http://towersofhanoi.info/Animate.aspx)\n",
    "\n",
    "Mikor visualizációt kerestem a Hanoi-tornyai játékhoz YouTube-on, véletlenül lespoiler-eztem magamnak a következő logikát, ami alapjául szolgált a megoldásomnak.\n",
    "\n",
    "Egy n korongból álló torony áthelyezése úgy oldható meg, hogy először az n-1 korongos tornyot átvisszük a tartalékrúdra, majd a n-edik korongot a célrúdra helyezzük, végül pedig az n-1 korongos tornyot áthelyezzük a tartalékrúdról a célrúdra.\n",
    "\n"
   ]
  },
  {
   "cell_type": "code",
   "execution_count": null,
   "metadata": {},
   "outputs": [],
   "source": [
    "def move (disk,start,end):\n",
    "    print(f\"{disk}. korong {start} -=> {end}\")\n",
    "    \n",
    "def hanoi(darab, forras, cel, tartalek):\n",
    "    if darab == 1:\n",
    "        return move(darab,forras,cel)\n",
    "    \n",
    "    hanoi(darab-1,forras,tartalek,cel )\n",
    "    move(darab,forras,cel)\n",
    "    hanoi(darab-1, tartalek,cel,forras)\n",
    "\n",
    "n = int(input(\"Mekkora a torony? \"))\n",
    "hanoi(4,\"A\",\"C\",\"B\")"
   ]
  },
  {
   "cell_type": "markdown",
   "metadata": {},
   "source": [
    "### 42.4 A,b,c betűsorozat\n",
    "\n",
    "The Video that helped with all of the recursive exercises:<br> [https://www.youtube.com/watch?v=ngCos392W4w&ab_channel=Reducible](https://www.youtube.com/watch?v=ngCos392W4w&ab_channel=Reducible)"
   ]
  },
  {
   "cell_type": "code",
   "execution_count": null,
   "metadata": {},
   "outputs": [],
   "source": [
    "def generator(darab,eddig = \"\"):\n",
    "    characters = (\"a\",\"b\",\"c\")\n",
    "    \n",
    "    if(darab == 0):\n",
    "        return \"\"\n",
    "    elif(darab == 1):\n",
    "        return \"a b c\"\n",
    "\n",
    "\n",
    "    if(eddig):\n",
    "\n",
    "        eddig_list = eddig.split()\n",
    "        result_list = []\n",
    "\n",
    "        for item in eddig_list:\n",
    "            for character in characters:\n",
    "                result_list.append(item+character)\n",
    "\n",
    "        result = '\\n'.join(result_list)\n",
    "        return result        \n",
    "\n",
    "    return generator(darab,generator(darab-1,eddig))\n",
    "\n",
    "n = input(\"Hány betűs a, b, c betűkből álló sorozatot generáljak? \")\n",
    "print(generator(int(n)))"
   ]
  },
  {
   "cell_type": "code",
   "execution_count": null,
   "metadata": {},
   "outputs": [],
   "source": [
    "    \n",
    "characters = (\"a\",\"b\",\"c\")\n",
    "eddig = \"a b c\"\n",
    "\n",
    "eddig_list = eddig.split()\n",
    "\n",
    "result_list = []\n",
    "for index, item in enumerate(eddig_list):\n",
    "    for character in characters:\n",
    "        result_list.append(item+character)\n",
    "\n",
    "print('\\n'.join(result_list))"
   ]
  },
  {
   "cell_type": "markdown",
   "metadata": {},
   "source": [
    "### Tamás féle 42.4"
   ]
  },
  {
   "cell_type": "code",
   "execution_count": null,
   "metadata": {},
   "outputs": [],
   "source": [
    "\n",
    "def generator(eddig,darab):\n",
    "    if (darab > 0):\n",
    "        generator(eddig + \"a\", darab - 1)\n",
    "        generator(eddig + \"b\", darab - 1)\n",
    "        generator(eddig + \"c\", darab - 1)\n",
    "    if (darab == 0):\n",
    "        print(eddig)\n",
    "\n",
    "generator(\"\", 3)"
   ]
  }
 ],
 "metadata": {
  "kernelspec": {
   "display_name": "Python 3",
   "language": "python",
   "name": "python3"
  },
  "language_info": {
   "codemirror_mode": {
    "name": "ipython",
    "version": 3
   },
   "file_extension": ".py",
   "mimetype": "text/x-python",
   "name": "python",
   "nbconvert_exporter": "python",
   "pygments_lexer": "ipython3",
   "version": "3.11.4"
  },
  "orig_nbformat": 4
 },
 "nbformat": 4,
 "nbformat_minor": 2
}
