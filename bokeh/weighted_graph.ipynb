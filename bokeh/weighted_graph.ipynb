{
 "cells": [
  {
   "cell_type": "code",
   "execution_count": 25,
   "metadata": {},
   "outputs": [
    {
     "data": {
      "text/html": [
       "<style>\n",
       "        .bk-notebook-logo {\n",
       "            display: block;\n",
       "            width: 20px;\n",
       "            height: 20px;\n",
       "            background-image: url(data:image/png;base64,iVBORw0KGgoAAAANSUhEUgAAABQAAAAUCAYAAACNiR0NAAAABHNCSVQICAgIfAhkiAAAAAlwSFlzAAALEgAACxIB0t1+/AAAABx0RVh0U29mdHdhcmUAQWRvYmUgRmlyZXdvcmtzIENTNui8sowAAAOkSURBVDiNjZRtaJVlGMd/1/08zzln5zjP1LWcU9N0NkN8m2CYjpgQYQXqSs0I84OLIC0hkEKoPtiH3gmKoiJDU7QpLgoLjLIQCpEsNJ1vqUOdO7ppbuec5+V+rj4ctwzd8IIbbi6u+8f1539dt3A78eXC7QizUF7gyV1fD1Yqg4JWz84yffhm0qkFqBogB9rM8tZdtwVsPUhWhGcFJngGeWrPzHm5oaMmkfEg1usvLFyc8jLRqDOMru7AyC8saQr7GG7f5fvDeH7Ej8CM66nIF+8yngt6HWaKh7k49Soy9nXurCi1o3qUbS3zWfrYeQDTB/Qj6kX6Ybhw4B+bOYoLKCC9H3Nu/leUTZ1JdRWkkn2ldcCamzrcf47KKXdAJllSlxAOkRgyHsGC/zRday5Qld9DyoM4/q/rUoy/CXh3jzOu3bHUVZeU+DEn8FInkPBFlu3+nW3Nw0mk6vCDiWg8CeJaxEwuHS3+z5RgY+YBR6V1Z1nxSOfoaPa4LASWxxdNp+VWTk7+4vzaou8v8PN+xo+KY2xsw6une2frhw05CTYOmQvsEhjhWjn0bmXPjpE1+kplmmkP3suftwTubK9Vq22qKmrBhpY4jvd5afdRA3wGjFAgcnTK2s4hY0/GPNIb0nErGMCRxWOOX64Z8RAC4oCXdklmEvcL8o0BfkNK4lUg9HTl+oPlQxdNo3Mg4Nv175e/1LDGzZen30MEjRUtmXSfiTVu1kK8W4txyV6BMKlbgk3lMwYCiusNy9fVfvvwMxv8Ynl6vxoByANLTWplvuj/nF9m2+PDtt1eiHPBr1oIfhCChQMBw6Aw0UulqTKZdfVvfG7VcfIqLG9bcldL/+pdWTLxLUy8Qq38heUIjh4XlzZxzQm19lLFlr8vdQ97rjZVOLf8nclzckbcD4wxXMidpX30sFd37Fv/GtwwhzhxGVAprjbg0gCAEeIgwCZyTV2Z1REEW8O4py0wsjeloKoMr6iCY6dP92H6Vw/oTyICIthibxjm/DfN9lVz8IqtqKYLUXfoKVMVQVVJOElGjrnnUt9T9wbgp8AyYKaGlqingHZU/uG2NTZSVqwHQTWkx9hxjkpWDaCg6Ckj5qebgBVbT3V3NNXMSiWSDdGV3hrtzla7J+duwPOToIg42ChPQOQjspnSlp1V+Gjdged7+8UN5CRAV7a5EdFNwCjEaBR27b3W890TE7g24NAP/mMDXRWrGoFPQI9ls/MWO2dWFAar/xcOIImbbpA3zgAAAABJRU5ErkJggg==);\n",
       "        }\n",
       "    </style>\n",
       "    <div>\n",
       "        <a href=\"https://bokeh.org\" target=\"_blank\" class=\"bk-notebook-logo\"></a>\n",
       "        <span id=\"c70a67c9-2bf5-4634-877e-ab821552a7fb\">Loading BokehJS ...</span>\n",
       "    </div>\n"
      ]
     },
     "metadata": {},
     "output_type": "display_data"
    },
    {
     "data": {
      "application/javascript": "(function(root) {\n  function now() {\n    return new Date();\n  }\n\n  const force = true;\n\n  if (typeof root._bokeh_onload_callbacks === \"undefined\" || force === true) {\n    root._bokeh_onload_callbacks = [];\n    root._bokeh_is_loading = undefined;\n  }\n\nconst JS_MIME_TYPE = 'application/javascript';\n  const HTML_MIME_TYPE = 'text/html';\n  const EXEC_MIME_TYPE = 'application/vnd.bokehjs_exec.v0+json';\n  const CLASS_NAME = 'output_bokeh rendered_html';\n\n  /**\n   * Render data to the DOM node\n   */\n  function render(props, node) {\n    const script = document.createElement(\"script\");\n    node.appendChild(script);\n  }\n\n  /**\n   * Handle when an output is cleared or removed\n   */\n  function handleClearOutput(event, handle) {\n    const cell = handle.cell;\n\n    const id = cell.output_area._bokeh_element_id;\n    const server_id = cell.output_area._bokeh_server_id;\n    // Clean up Bokeh references\n    if (id != null && id in Bokeh.index) {\n      Bokeh.index[id].model.document.clear();\n      delete Bokeh.index[id];\n    }\n\n    if (server_id !== undefined) {\n      // Clean up Bokeh references\n      const cmd_clean = \"from bokeh.io.state import curstate; print(curstate().uuid_to_server['\" + server_id + \"'].get_sessions()[0].document.roots[0]._id)\";\n      cell.notebook.kernel.execute(cmd_clean, {\n        iopub: {\n          output: function(msg) {\n            const id = msg.content.text.trim();\n            if (id in Bokeh.index) {\n              Bokeh.index[id].model.document.clear();\n              delete Bokeh.index[id];\n            }\n          }\n        }\n      });\n      // Destroy server and session\n      const cmd_destroy = \"import bokeh.io.notebook as ion; ion.destroy_server('\" + server_id + \"')\";\n      cell.notebook.kernel.execute(cmd_destroy);\n    }\n  }\n\n  /**\n   * Handle when a new output is added\n   */\n  function handleAddOutput(event, handle) {\n    const output_area = handle.output_area;\n    const output = handle.output;\n\n    // limit handleAddOutput to display_data with EXEC_MIME_TYPE content only\n    if ((output.output_type != \"display_data\") || (!Object.prototype.hasOwnProperty.call(output.data, EXEC_MIME_TYPE))) {\n      return\n    }\n\n    const toinsert = output_area.element.find(\".\" + CLASS_NAME.split(' ')[0]);\n\n    if (output.metadata[EXEC_MIME_TYPE][\"id\"] !== undefined) {\n      toinsert[toinsert.length - 1].firstChild.textContent = output.data[JS_MIME_TYPE];\n      // store reference to embed id on output_area\n      output_area._bokeh_element_id = output.metadata[EXEC_MIME_TYPE][\"id\"];\n    }\n    if (output.metadata[EXEC_MIME_TYPE][\"server_id\"] !== undefined) {\n      const bk_div = document.createElement(\"div\");\n      bk_div.innerHTML = output.data[HTML_MIME_TYPE];\n      const script_attrs = bk_div.children[0].attributes;\n      for (let i = 0; i < script_attrs.length; i++) {\n        toinsert[toinsert.length - 1].firstChild.setAttribute(script_attrs[i].name, script_attrs[i].value);\n        toinsert[toinsert.length - 1].firstChild.textContent = bk_div.children[0].textContent\n      }\n      // store reference to server id on output_area\n      output_area._bokeh_server_id = output.metadata[EXEC_MIME_TYPE][\"server_id\"];\n    }\n  }\n\n  function register_renderer(events, OutputArea) {\n\n    function append_mime(data, metadata, element) {\n      // create a DOM node to render to\n      const toinsert = this.create_output_subarea(\n        metadata,\n        CLASS_NAME,\n        EXEC_MIME_TYPE\n      );\n      this.keyboard_manager.register_events(toinsert);\n      // Render to node\n      const props = {data: data, metadata: metadata[EXEC_MIME_TYPE]};\n      render(props, toinsert[toinsert.length - 1]);\n      element.append(toinsert);\n      return toinsert\n    }\n\n    /* Handle when an output is cleared or removed */\n    events.on('clear_output.CodeCell', handleClearOutput);\n    events.on('delete.Cell', handleClearOutput);\n\n    /* Handle when a new output is added */\n    events.on('output_added.OutputArea', handleAddOutput);\n\n    /**\n     * Register the mime type and append_mime function with output_area\n     */\n    OutputArea.prototype.register_mime_type(EXEC_MIME_TYPE, append_mime, {\n      /* Is output safe? */\n      safe: true,\n      /* Index of renderer in `output_area.display_order` */\n      index: 0\n    });\n  }\n\n  // register the mime type if in Jupyter Notebook environment and previously unregistered\n  if (root.Jupyter !== undefined) {\n    const events = require('base/js/events');\n    const OutputArea = require('notebook/js/outputarea').OutputArea;\n\n    if (OutputArea.prototype.mime_types().indexOf(EXEC_MIME_TYPE) == -1) {\n      register_renderer(events, OutputArea);\n    }\n  }\n  if (typeof (root._bokeh_timeout) === \"undefined\" || force === true) {\n    root._bokeh_timeout = Date.now() + 5000;\n    root._bokeh_failed_load = false;\n  }\n\n  const NB_LOAD_WARNING = {'data': {'text/html':\n     \"<div style='background-color: #fdd'>\\n\"+\n     \"<p>\\n\"+\n     \"BokehJS does not appear to have successfully loaded. If loading BokehJS from CDN, this \\n\"+\n     \"may be due to a slow or bad network connection. Possible fixes:\\n\"+\n     \"</p>\\n\"+\n     \"<ul>\\n\"+\n     \"<li>re-rerun `output_notebook()` to attempt to load from CDN again, or</li>\\n\"+\n     \"<li>use INLINE resources instead, as so:</li>\\n\"+\n     \"</ul>\\n\"+\n     \"<code>\\n\"+\n     \"from bokeh.resources import INLINE\\n\"+\n     \"output_notebook(resources=INLINE)\\n\"+\n     \"</code>\\n\"+\n     \"</div>\"}};\n\n  function display_loaded() {\n    const el = document.getElementById(\"c70a67c9-2bf5-4634-877e-ab821552a7fb\");\n    if (el != null) {\n      el.textContent = \"BokehJS is loading...\";\n    }\n    if (root.Bokeh !== undefined) {\n      if (el != null) {\n        el.textContent = \"BokehJS \" + root.Bokeh.version + \" successfully loaded.\";\n      }\n    } else if (Date.now() < root._bokeh_timeout) {\n      setTimeout(display_loaded, 100)\n    }\n  }\n\n  function run_callbacks() {\n    try {\n      root._bokeh_onload_callbacks.forEach(function(callback) {\n        if (callback != null)\n          callback();\n      });\n    } finally {\n      delete root._bokeh_onload_callbacks\n    }\n    console.debug(\"Bokeh: all callbacks have finished\");\n  }\n\n  function load_libs(css_urls, js_urls, callback) {\n    if (css_urls == null) css_urls = [];\n    if (js_urls == null) js_urls = [];\n\n    root._bokeh_onload_callbacks.push(callback);\n    if (root._bokeh_is_loading > 0) {\n      console.debug(\"Bokeh: BokehJS is being loaded, scheduling callback at\", now());\n      return null;\n    }\n    if (js_urls == null || js_urls.length === 0) {\n      run_callbacks();\n      return null;\n    }\n    console.debug(\"Bokeh: BokehJS not loaded, scheduling load and callback at\", now());\n    root._bokeh_is_loading = css_urls.length + js_urls.length;\n\n    function on_load() {\n      root._bokeh_is_loading--;\n      if (root._bokeh_is_loading === 0) {\n        console.debug(\"Bokeh: all BokehJS libraries/stylesheets loaded\");\n        run_callbacks()\n      }\n    }\n\n    function on_error(url) {\n      console.error(\"failed to load \" + url);\n    }\n\n    for (let i = 0; i < css_urls.length; i++) {\n      const url = css_urls[i];\n      const element = document.createElement(\"link\");\n      element.onload = on_load;\n      element.onerror = on_error.bind(null, url);\n      element.rel = \"stylesheet\";\n      element.type = \"text/css\";\n      element.href = url;\n      console.debug(\"Bokeh: injecting link tag for BokehJS stylesheet: \", url);\n      document.body.appendChild(element);\n    }\n\n    for (let i = 0; i < js_urls.length; i++) {\n      const url = js_urls[i];\n      const element = document.createElement('script');\n      element.onload = on_load;\n      element.onerror = on_error.bind(null, url);\n      element.async = false;\n      element.src = url;\n      console.debug(\"Bokeh: injecting script tag for BokehJS library: \", url);\n      document.head.appendChild(element);\n    }\n  };\n\n  function inject_raw_css(css) {\n    const element = document.createElement(\"style\");\n    element.appendChild(document.createTextNode(css));\n    document.body.appendChild(element);\n  }\n\n  const js_urls = [\"https://cdn.bokeh.org/bokeh/release/bokeh-3.2.1.min.js\", \"https://cdn.bokeh.org/bokeh/release/bokeh-gl-3.2.1.min.js\", \"https://cdn.bokeh.org/bokeh/release/bokeh-widgets-3.2.1.min.js\", \"https://cdn.bokeh.org/bokeh/release/bokeh-tables-3.2.1.min.js\", \"https://cdn.bokeh.org/bokeh/release/bokeh-mathjax-3.2.1.min.js\"];\n  const css_urls = [];\n\n  const inline_js = [    function(Bokeh) {\n      Bokeh.set_log_level(\"info\");\n    },\nfunction(Bokeh) {\n    }\n  ];\n\n  function run_inline_js() {\n    if (root.Bokeh !== undefined || force === true) {\n          for (let i = 0; i < inline_js.length; i++) {\n      inline_js[i].call(root, root.Bokeh);\n    }\nif (force === true) {\n        display_loaded();\n      }} else if (Date.now() < root._bokeh_timeout) {\n      setTimeout(run_inline_js, 100);\n    } else if (!root._bokeh_failed_load) {\n      console.log(\"Bokeh: BokehJS failed to load within specified timeout.\");\n      root._bokeh_failed_load = true;\n    } else if (force !== true) {\n      const cell = $(document.getElementById(\"c70a67c9-2bf5-4634-877e-ab821552a7fb\")).parents('.cell').data().cell;\n      cell.output_area.append_execute_result(NB_LOAD_WARNING)\n    }\n  }\n\n  if (root._bokeh_is_loading === 0) {\n    console.debug(\"Bokeh: BokehJS loaded, going straight to plotting\");\n    run_inline_js();\n  } else {\n    load_libs(css_urls, js_urls, function() {\n      console.debug(\"Bokeh: BokehJS plotting callback run at\", now());\n      run_inline_js();\n    });\n  }\n}(window));",
      "application/vnd.bokehjs_load.v0+json": ""
     },
     "metadata": {},
     "output_type": "display_data"
    }
   ],
   "source": [
    "import pandas as pd\n",
    "from bokeh.io import output_notebook, push_notebook, notebook\n",
    "import networkx as nx\n",
    "from bokeh.plotting import figure, from_networkx, show\n",
    "from bokeh.models import (BoxSelectTool, Circle, EdgesAndLinkedNodes,NodesAndLinkedEdges,\n",
    "                          HoverTool, MultiLine, Plot, TapTool,CustomJS,Slider)\n",
    "from bokeh.palettes import Spectral4\n",
    "\n",
    "from bokeh.layouts import column\n",
    "\n",
    "\n",
    "output_notebook()"
   ]
  },
  {
   "cell_type": "code",
   "execution_count": 3,
   "metadata": {},
   "outputs": [],
   "source": [
    "df = pd.read_csv('D13_graph4.csv',sep=';')\n",
    "df = df.astype('int32')\n",
    "# df"
   ]
  },
  {
   "cell_type": "code",
   "execution_count": 4,
   "metadata": {},
   "outputs": [],
   "source": [
    "weights = df[df['ID2'] == 17]['weight'].tolist()\n",
    "for i in range(len(weights)):\n",
    "    if i == 16:\n",
    "        df.loc[(df['ID1'] == 17) & (df['ID2'] == i+2), 'weight'] = weights[i]\n",
    "    else: \n",
    "        df.loc[(df['ID1'] == 17) & (df['ID2'] == i+1), 'weight'] = weights[i]\n",
    "\n",
    "# df[df['ID1'] == 17]"
   ]
  },
  {
   "cell_type": "code",
   "execution_count": 26,
   "metadata": {
    "scrolled": true
   },
   "outputs": [
    {
     "data": {
      "text/html": [
       "\n",
       "  <div id=\"d9360b44-ef5d-47b1-8fe0-274e653ab5a9\" data-root-id=\"p2295\" style=\"display: contents;\"></div>\n"
      ]
     },
     "metadata": {},
     "output_type": "display_data"
    },
    {
     "data": {
      "application/javascript": "(function(root) {\n  function embed_document(root) {\n  const docs_json = {\"17e5f7eb-02ef-4b97-a20f-249a8b6982bd\":{\"version\":\"3.2.1\",\"title\":\"Bokeh Application\",\"roots\":[{\"type\":\"object\",\"name\":\"Column\",\"id\":\"p2295\",\"attributes\":{\"children\":[{\"type\":\"object\",\"name\":\"Plot\",\"id\":\"p2254\",\"attributes\":{\"js_event_callbacks\":{\"type\":\"map\",\"entries\":[[\"tap\",[{\"type\":\"object\",\"name\":\"CustomJS\",\"id\":\"p2293\",\"attributes\":{\"args\":{\"type\":\"map\",\"entries\":[[\"node_source\",{\"type\":\"object\",\"name\":\"ColumnDataSource\",\"id\":\"p2264\",\"attributes\":{\"selected\":{\"type\":\"object\",\"name\":\"Selection\",\"id\":\"p2265\",\"attributes\":{\"indices\":[],\"line_indices\":[]}},\"selection_policy\":{\"type\":\"object\",\"name\":\"UnionRenderers\",\"id\":\"p2266\"},\"data\":{\"type\":\"map\",\"entries\":[[\"index\",[1,2,3,4,5,6,7,8,9,10,11,12,13,14,15,16,17,18]],[\"fill_color\",[\"#2b83ba\",\"#2b83ba\",\"#2b83ba\",\"#2b83ba\",\"#2b83ba\",\"#2b83ba\",\"#2b83ba\",\"#2b83ba\",\"#2b83ba\",\"#2b83ba\",\"#2b83ba\",\"#2b83ba\",\"#2b83ba\",\"#2b83ba\",\"#2b83ba\",\"#2b83ba\",\"#2b83ba\",\"#2b83ba\"]]]}}}],[\"edge_source\",{\"type\":\"object\",\"name\":\"ColumnDataSource\",\"id\":\"p2271\",\"attributes\":{\"selected\":{\"type\":\"object\",\"name\":\"Selection\",\"id\":\"p2272\",\"attributes\":{\"indices\":[],\"line_indices\":[]}},\"selection_policy\":{\"type\":\"object\",\"name\":\"UnionRenderers\",\"id\":\"p2273\"},\"data\":{\"type\":\"map\",\"entries\":[[\"weight\",[1,1,3,3,1,1,1,1,3,1,1,1,1,3,1,1,3,3,2,1,1,2,1,1,1,1,3,1,2,1,2,1,1,1,1,1,1,3,1,1,1,1,3,1,1,1,3,1,2,1,1,1,5,1,1,1,1,4,1,1,1,1,1,1,1,1,3,1,1,1,1,3,1,1,3,1,1,1,1,5,1,1,1,1,1,1,1,1,1,1,1,3,1,1,1,2,1,1,1,1,1,1,3,5,1,1,1,1,1,3,1,1,4,1,1,4,1,1,1,1,1,3,1,1,3,1,1,1,2,1,1,1,1,1,1,2,1,1,1,1,1,1,1,1,1,3,1,1,1,3,1,1,1]],[\"start\",[1,1,1,1,1,1,1,1,1,1,1,1,1,1,1,1,1,2,2,2,2,2,2,2,2,2,2,2,2,2,2,2,2,3,3,3,3,3,3,3,3,3,3,3,3,3,3,3,4,4,4,4,4,4,4,4,4,4,4,4,4,4,5,5,5,5,5,5,5,5,5,5,5,5,5,6,6,6,6,6,6,6,6,6,6,6,6,7,7,7,7,7,7,7,7,7,7,7,8,8,8,8,8,8,8,8,8,8,9,9,9,9,9,9,9,9,9,10,10,10,10,10,10,10,10,11,11,11,11,11,11,11,12,12,12,12,12,12,13,13,13,13,13,14,14,14,14,15,15,15,16,16,17]],[\"end\",[2,3,4,5,6,7,8,9,10,11,12,13,14,15,16,17,18,3,4,5,6,7,8,9,10,11,12,13,14,15,16,17,18,4,5,6,7,8,9,10,11,12,13,14,15,16,17,18,5,6,7,8,9,10,11,12,13,14,15,16,17,18,6,7,8,9,10,11,12,13,14,15,16,17,18,7,8,9,10,11,12,13,14,15,16,17,18,8,9,10,11,12,13,14,15,16,17,18,9,10,11,12,13,14,15,16,17,18,10,11,12,13,14,15,16,17,18,11,12,13,14,15,16,17,18,12,13,14,15,16,17,18,13,14,15,16,17,18,14,15,16,17,18,15,16,17,18,16,17,18,17,18,18]]]}}}]]},\"code\":\"\\n    const ORIGINAL_NODE_COLOR = '#2b83ba';\\n    var selectedNodes = node_source.selected.indices;\\n    var selectedEdges = edge_source.selected.indices;\\n                    \\n    if(selectedNodes.length == 0 && selectedEdges == 0){\\n        node_source.data['fill_color'].fill(ORIGINAL_NODE_COLOR);\\n        node_source.change.emit();\\n    }\\n\\n\"}}]]]},\"width\":700,\"height\":700,\"x_range\":{\"type\":\"object\",\"name\":\"DataRange1d\",\"id\":\"p2257\"},\"y_range\":{\"type\":\"object\",\"name\":\"DataRange1d\",\"id\":\"p2258\"},\"x_scale\":{\"type\":\"object\",\"name\":\"LinearScale\",\"id\":\"p2259\"},\"y_scale\":{\"type\":\"object\",\"name\":\"LinearScale\",\"id\":\"p2260\"},\"title\":{\"type\":\"object\",\"name\":\"Title\",\"id\":\"p2255\",\"attributes\":{\"text\":\"Nodes are clickable and you can hover over edges and nodes\"}},\"renderers\":[{\"type\":\"object\",\"name\":\"GraphRenderer\",\"id\":\"p2262\",\"attributes\":{\"layout_provider\":{\"type\":\"object\",\"name\":\"StaticLayoutProvider\",\"id\":\"p2279\",\"attributes\":{\"graph_layout\":{\"type\":\"map\",\"entries\":[[1,{\"type\":\"ndarray\",\"array\":{\"type\":\"bytes\",\"data\":\"goJtaDcm9L8wT1O7DKfyvw==\"},\"shape\":[2],\"dtype\":\"float64\",\"order\":\"little\"}],[2,{\"type\":\"ndarray\",\"array\":{\"type\":\"bytes\",\"data\":\"LppIrtCx1D/O3mWVpWjuPw==\"},\"shape\":[2],\"dtype\":\"float64\",\"order\":\"little\"}],[3,{\"type\":\"ndarray\",\"array\":{\"type\":\"bytes\",\"data\":\"vD/bZaRf1b/DFkbzIRX4Pw==\"},\"shape\":[2],\"dtype\":\"float64\",\"order\":\"little\"}],[4,{\"type\":\"ndarray\",\"array\":{\"type\":\"bytes\",\"data\":\"HeP+LLzw97/UcPLWUynWvw==\"},\"shape\":[2],\"dtype\":\"float64\",\"order\":\"little\"}],[5,{\"type\":\"ndarray\",\"array\":{\"type\":\"bytes\",\"data\":\"Ot006l855L/NzMzMzMz8vw==\"},\"shape\":[2],\"dtype\":\"float64\",\"order\":\"little\"}],[6,{\"type\":\"ndarray\",\"array\":{\"type\":\"bytes\",\"data\":\"cG5DiG6W+z8HKPsU/d7gvw==\"},\"shape\":[2],\"dtype\":\"float64\",\"order\":\"little\"}],[7,{\"type\":\"ndarray\",\"array\":{\"type\":\"bytes\",\"data\":\"2agKrtU+5D9c+ixy2nP8Pw==\"},\"shape\":[2],\"dtype\":\"float64\",\"order\":\"little\"}],[8,{\"type\":\"ndarray\",\"array\":{\"type\":\"bytes\",\"data\":\"VhfVwHyi8L+q7T9CcMX3Pw==\"},\"shape\":[2],\"dtype\":\"float64\",\"order\":\"little\"}],[9,{\"type\":\"ndarray\",\"array\":{\"type\":\"bytes\",\"data\":\"DZWPcKt83b+WdXN+k+G0vw==\"},\"shape\":[2],\"dtype\":\"float64\",\"order\":\"little\"}],[10,{\"type\":\"ndarray\",\"array\":{\"type\":\"bytes\",\"data\":\"KTum2d2P2z9jbWmSXqbqvw==\"},\"shape\":[2],\"dtype\":\"float64\",\"order\":\"little\"}],[11,{\"type\":\"ndarray\",\"array\":{\"type\":\"bytes\",\"data\":\"t/uxgzvL8z9k3igtSSjzvw==\"},\"shape\":[2],\"dtype\":\"float64\",\"order\":\"little\"}],[12,{\"type\":\"ndarray\",\"array\":{\"type\":\"bytes\",\"data\":\"asKeFTcK9j9mSz9tPaLzPw==\"},\"shape\":[2],\"dtype\":\"float64\",\"order\":\"little\"}],[13,{\"type\":\"ndarray\",\"array\":{\"type\":\"bytes\",\"data\":\"bGbaZjPp5T8peVeJ+XbQPw==\"},\"shape\":[2],\"dtype\":\"float64\",\"order\":\"little\"}],[14,{\"type\":\"ndarray\",\"array\":{\"type\":\"bytes\",\"data\":\"J4DY48L08L+HVEU1gFflPw==\"},\"shape\":[2],\"dtype\":\"float64\",\"order\":\"little\"}],[15,{\"type\":\"ndarray\",\"array\":{\"type\":\"bytes\",\"data\":\"k99r/syT2D8PHjuyTh78vw==\"},\"shape\":[2],\"dtype\":\"float64\",\"order\":\"little\"}],[16,{\"type\":\"ndarray\",\"array\":{\"type\":\"bytes\",\"data\":\"h0gNZH/O+j/UvPITG8nZPw==\"},\"shape\":[2],\"dtype\":\"float64\",\"order\":\"little\"}],[17,{\"type\":\"ndarray\",\"array\":{\"type\":\"bytes\",\"data\":\"tTh4PgW2/L972uKEAyHhPw==\"},\"shape\":[2],\"dtype\":\"float64\",\"order\":\"little\"}],[18,{\"type\":\"ndarray\",\"array\":{\"type\":\"bytes\",\"data\":\"HUKNOR4v2b8FqDF7tpvxvw==\"},\"shape\":[2],\"dtype\":\"float64\",\"order\":\"little\"}]]}}},\"node_renderer\":{\"type\":\"object\",\"name\":\"GlyphRenderer\",\"id\":\"p2267\",\"attributes\":{\"data_source\":{\"id\":\"p2264\"},\"view\":{\"type\":\"object\",\"name\":\"CDSView\",\"id\":\"p2268\",\"attributes\":{\"filter\":{\"type\":\"object\",\"name\":\"AllIndices\",\"id\":\"p2269\"}}},\"glyph\":{\"type\":\"object\",\"name\":\"Circle\",\"id\":\"p2282\",\"attributes\":{\"size\":{\"type\":\"value\",\"value\":20},\"fill_color\":{\"type\":\"field\",\"field\":\"fill_color\"}}},\"selection_glyph\":{\"type\":\"object\",\"name\":\"Circle\",\"id\":\"p2283\",\"attributes\":{\"size\":{\"type\":\"value\",\"value\":15},\"fill_color\":{\"type\":\"value\",\"value\":\"red\"}}},\"hover_glyph\":{\"type\":\"object\",\"name\":\"Circle\",\"id\":\"p2284\",\"attributes\":{\"size\":{\"type\":\"value\",\"value\":15},\"fill_color\":{\"type\":\"value\",\"value\":\"#abdda4\"}}}}},\"edge_renderer\":{\"type\":\"object\",\"name\":\"GlyphRenderer\",\"id\":\"p2274\",\"attributes\":{\"data_source\":{\"id\":\"p2271\"},\"view\":{\"type\":\"object\",\"name\":\"CDSView\",\"id\":\"p2275\",\"attributes\":{\"filter\":{\"type\":\"object\",\"name\":\"AllIndices\",\"id\":\"p2276\"}}},\"glyph\":{\"type\":\"object\",\"name\":\"MultiLine\",\"id\":\"p2285\",\"attributes\":{\"line_color\":{\"type\":\"value\",\"value\":\"#808080\"},\"line_alpha\":{\"type\":\"value\",\"value\":0.5},\"line_width\":{\"type\":\"value\",\"value\":2}}},\"selection_glyph\":{\"type\":\"object\",\"name\":\"MultiLine\",\"id\":\"p2286\",\"attributes\":{\"line_color\":{\"type\":\"value\",\"value\":\"#fdae61\"},\"line_width\":{\"type\":\"value\",\"value\":2}}},\"hover_glyph\":{\"type\":\"object\",\"name\":\"MultiLine\",\"id\":\"p2287\",\"attributes\":{\"line_color\":{\"type\":\"value\",\"value\":\"#abdda4\"},\"line_width\":{\"type\":\"value\",\"value\":2}}}}},\"selection_policy\":{\"type\":\"object\",\"name\":\"EdgesAndLinkedNodes\",\"id\":\"p2288\"},\"inspection_policy\":{\"type\":\"object\",\"name\":\"EdgesAndLinkedNodes\",\"id\":\"p2289\"}}}],\"toolbar\":{\"type\":\"object\",\"name\":\"Toolbar\",\"id\":\"p2261\",\"attributes\":{\"tools\":[{\"type\":\"object\",\"name\":\"HoverTool\",\"id\":\"p2280\",\"attributes\":{\"renderers\":[{\"id\":\"p2274\"}],\"tooltips\":[[\"Node 1\",\"@start\"],[\"Node 2\",\"@end\"],[\"Weight\",\"@weight\"]]}},{\"type\":\"object\",\"name\":\"HoverTool\",\"id\":\"p2281\",\"attributes\":{\"renderers\":[{\"id\":\"p2267\"}],\"tooltips\":[[\"Node\",\"@index\"]]}},{\"type\":\"object\",\"name\":\"TapTool\",\"id\":\"p2294\",\"attributes\":{\"renderers\":[{\"id\":\"p2274\"},{\"id\":\"p2267\"}],\"callback\":{\"type\":\"object\",\"name\":\"CustomJS\",\"id\":\"p2292\",\"attributes\":{\"args\":{\"type\":\"map\",\"entries\":[[\"node_source\",{\"id\":\"p2264\"}],[\"edge_source\",{\"id\":\"p2271\"}],[\"og_node_source\",{\"id\":\"p2264\"}]]},\"code\":\"\\n    var selectedNodes = node_source.selected.indices;\\n    var selectedEdges = edge_source.selected.indices;\\n    const ORIGINAL_NODE_COLOR = '#2b83ba';\\n    var alertMessage = \\\"\\\";\\n   \\n    node_source.data['fill_color'].fill(ORIGINAL_NODE_COLOR);\\n    node_source.change.emit();\\n\\n    if(selectedNodes.length > 0 && selectedEdges.length > 0){\\n        selectedEdges = [];\\n        edge_source.selected.indices = selectedEdges; \\n        edge_source.change.emit();\\n    }\\n                           \\n    if(selectedEdges.length > 0){\\n        var startNodes = selectedEdges.map(edge => edge_source.data['start'][edge]);\\n        var endNodes = selectedEdges.map(edge => edge_source.data['end'][edge]);\\n        var weights = selectedEdges.map(edge => edge_source.data['weight'][edge]);\\n                           \\n        startNodes.forEach( node => {\\n            node_source.data['fill_color'][node-1] = 'red';\\n        })\\n        \\n        endNodes.forEach( node => {\\n            node_source.data['fill_color'][node-1] = 'red';\\n        })\\n        node_source.change.emit();     \\n    \\n        const edges = [];\\n        for(var i = 0; i < selectedEdges.length; i++) {\\n            edges[i] = \\\"(\\\" + startNodes[i] + \\\";\\\" + endNodes[i] + \\\";\\\" + weights[i] + \\\")\\\";\\n        }\\n        alertMessage = \\\"Selected edges (start;end;weight): \\\" + edges.join(\\\", \\\");           \\n                              \\n        setTimeout(function() {\\n            window.alert(alertMessage);\\n        }, 200);\\n        \\n    }\\n    \\n    if (selectedNodes.length > 0 && selectedEdges.length == 0) { \\n        const indexes = [];\\n        const startNodes = edge_source.data['start'];\\n        const endNodes = edge_source.data['end'];\\n                \\n        selectedNodes.forEach( node => {\\n            startNodes.forEach((startNode, index) => {\\n                if(startNode === node+1){\\n                    indexes.push(index);\\n                }\\n            });\\n            \\n            endNodes.forEach((endNode, index) => {\\n                if(endNode === node+1){\\n                    indexes.push(index);\\n                }\\n            }); \\n        });\\n\\n        edge_source.selected.indices = indexes;\\n                           \\n        edge_source.change.emit();\\n    }                  \\n    \\n\"}}}}]}}}},{\"type\":\"object\",\"name\":\"Slider\",\"id\":\"p2290\",\"attributes\":{\"js_property_callbacks\":{\"type\":\"map\",\"entries\":[[\"change:value\",[{\"type\":\"object\",\"name\":\"CustomJS\",\"id\":\"p2291\",\"attributes\":{\"args\":{\"type\":\"map\",\"entries\":[[\"source\",{\"id\":\"p2271\"}],[\"slider\",{\"id\":\"p2290\"}],[\"original_data\",{\"type\":\"map\",\"entries\":[[\"weight\",[1,1,3,3,1,1,1,1,3,1,1,1,1,3,1,1,3,3,2,1,1,2,1,1,1,1,3,1,2,1,2,1,1,1,1,1,1,3,1,1,1,1,3,1,1,1,3,1,2,1,1,1,5,1,1,1,1,4,1,1,1,1,1,1,1,1,3,1,1,1,1,3,1,1,3,1,1,1,1,5,1,1,1,1,1,1,1,1,1,1,1,3,1,1,1,2,1,1,1,1,1,1,3,5,1,1,1,1,1,3,1,1,4,1,1,4,1,1,1,1,1,3,1,1,3,1,1,1,2,1,1,1,1,1,1,2,1,1,1,1,1,1,1,1,1,3,1,1,1,3,1,1,1]],[\"start\",[1,1,1,1,1,1,1,1,1,1,1,1,1,1,1,1,1,2,2,2,2,2,2,2,2,2,2,2,2,2,2,2,2,3,3,3,3,3,3,3,3,3,3,3,3,3,3,3,4,4,4,4,4,4,4,4,4,4,4,4,4,4,5,5,5,5,5,5,5,5,5,5,5,5,5,6,6,6,6,6,6,6,6,6,6,6,6,7,7,7,7,7,7,7,7,7,7,7,8,8,8,8,8,8,8,8,8,8,9,9,9,9,9,9,9,9,9,10,10,10,10,10,10,10,10,11,11,11,11,11,11,11,12,12,12,12,12,12,13,13,13,13,13,14,14,14,14,15,15,15,16,16,17]],[\"end\",[2,3,4,5,6,7,8,9,10,11,12,13,14,15,16,17,18,3,4,5,6,7,8,9,10,11,12,13,14,15,16,17,18,4,5,6,7,8,9,10,11,12,13,14,15,16,17,18,5,6,7,8,9,10,11,12,13,14,15,16,17,18,6,7,8,9,10,11,12,13,14,15,16,17,18,7,8,9,10,11,12,13,14,15,16,17,18,8,9,10,11,12,13,14,15,16,17,18,9,10,11,12,13,14,15,16,17,18,10,11,12,13,14,15,16,17,18,11,12,13,14,15,16,17,18,12,13,14,15,16,17,18,13,14,15,16,17,18,14,15,16,17,18,15,16,17,18,16,17,18,17,18,18]]]}]]},\"code\":\"  \\n    const data = source.data;\\n    const start = original_data['start'];  \\n    const end = original_data['end'];      \\n    const weight = original_data['weight'];\\n    const selected_value = slider.value;\\n    const ds = {};\\n    var filteredStart = [];\\n    var filteredEnd = [];\\n    var filteredWeight = [];\\n    \\n    if(selected_value > 0){\\n        for (var i = 0; i < start.length; i++) {\\n            if (weight[i] > selected_value) {\\n                filteredStart.push(start[i]);\\n                filteredEnd.push(end[i]);\\n                filteredWeight.push(weight[i]);\\n            }\\n        }                \\n    }else {\\n        filteredStart = start;\\n        filteredEnd = end;\\n        filteredWeight = weight;\\n    }\\n\\n    ds['start'] = filteredStart;\\n    ds['end'] = filteredEnd;\\n    ds['weight'] = filteredWeight;\\n    \\n    source.data = ds;\\n\\n    source.change.emit();            \\n\"}}]]]},\"title\":\"Threshold: \",\"start\":0,\"end\":5,\"value\":0}}]}}]}};\n  const render_items = [{\"docid\":\"17e5f7eb-02ef-4b97-a20f-249a8b6982bd\",\"roots\":{\"p2295\":\"d9360b44-ef5d-47b1-8fe0-274e653ab5a9\"},\"root_ids\":[\"p2295\"]}];\n  root.Bokeh.embed.embed_items_notebook(docs_json, render_items);\n  }\n  if (root.Bokeh !== undefined) {\n    embed_document(root);\n  } else {\n    let attempts = 0;\n    const timer = setInterval(function(root) {\n      if (root.Bokeh !== undefined) {\n        clearInterval(timer);\n        embed_document(root);\n      } else {\n        attempts++;\n        if (attempts > 100) {\n          clearInterval(timer);\n          console.log(\"Bokeh: ERROR: Unable to run BokehJS code because BokehJS library is missing\");\n        }\n      }\n    }, 10, root)\n  }\n})(window);",
      "application/vnd.bokehjs_exec.v0+json": ""
     },
     "metadata": {
      "application/vnd.bokehjs_exec.v0+json": {
       "id": "p2295"
      }
     },
     "output_type": "display_data"
    }
   ],
   "source": [
    "\n",
    "\n",
    "G = nx.from_pandas_edgelist(df=df,source='ID1', target='ID2', edge_attr=['weight'])\n",
    "\n",
    "\n",
    "p = Plot(width= 700, height = 700, title = 'Nodes are clickable and you can hover over edges and nodes')\n",
    "p.grid.grid_line_color = None\n",
    "\n",
    "graph = from_networkx(G, nx.spring_layout,scale=1.8, center=(0,0))\n",
    "\n",
    "p.add_tools(HoverTool(renderers=[graph.edge_renderer],tooltips=[('Node 1', '@start'), ('Node 2', '@end'), ('Weight', '@weight')]))\n",
    "p.add_tools(HoverTool(renderers=[graph.node_renderer], tooltips=[('Node', '@index')]))\n",
    "\n",
    "\n",
    "gl = graph.node_renderer.glyph = Circle(size=20, fill_color=\"fill_color\")\n",
    "graph.node_renderer.selection_glyph = Circle(size=15, fill_color='red')\n",
    "graph.node_renderer.hover_glyph = Circle(size=15, fill_color=Spectral4[1])\n",
    "graph.node_renderer.data_source.data = dict(\n",
    "    index = list(range(1,len(G)+1)),\n",
    "    fill_color = [Spectral4[0] for i in range(len(G))]\n",
    ")\n",
    "og_node_colors = graph.node_renderer.data_source.data['fill_color']\n",
    "graph.edge_renderer.glyph = MultiLine(line_color=\"#808080\", line_alpha=0.5, line_width=2)\n",
    "graph.edge_renderer.selection_glyph = MultiLine(line_color=Spectral4[2], line_width=2)\n",
    "graph.edge_renderer.hover_glyph = MultiLine(line_color=Spectral4[1], line_width=2)\n",
    "\n",
    "graph.selection_policy = EdgesAndLinkedNodes()\n",
    "graph.inspection_policy = EdgesAndLinkedNodes()\n",
    "\n",
    "\n",
    "og_edge_data = graph.edge_renderer.data_source.data\n",
    "\n",
    "slider = Slider(start=0, end=5, value=0, step=1, title=\"Threshold: \")\n",
    "\n",
    "callback = CustomJS(args=dict(source = graph.edge_renderer.data_source, slider = slider, original_data = og_edge_data), code= \"\"\"  \n",
    "    const data = source.data;\n",
    "    const start = original_data['start'];  \n",
    "    const end = original_data['end'];      \n",
    "    const weight = original_data['weight'];\n",
    "    const selected_value = slider.value;\n",
    "    const ds = {};\n",
    "    var filteredStart = [];\n",
    "    var filteredEnd = [];\n",
    "    var filteredWeight = [];\n",
    "    \n",
    "    if(selected_value > 0){\n",
    "        for (var i = 0; i < start.length; i++) {\n",
    "            if (weight[i] > selected_value) {\n",
    "                filteredStart.push(start[i]);\n",
    "                filteredEnd.push(end[i]);\n",
    "                filteredWeight.push(weight[i]);\n",
    "            }\n",
    "        }                \n",
    "    }else {\n",
    "        filteredStart = start;\n",
    "        filteredEnd = end;\n",
    "        filteredWeight = weight;\n",
    "    }\n",
    "\n",
    "    ds['start'] = filteredStart;\n",
    "    ds['end'] = filteredEnd;\n",
    "    ds['weight'] = filteredWeight;\n",
    "    \n",
    "    source.data = ds;\n",
    "\n",
    "    source.change.emit();            \n",
    "\"\"\")\n",
    "\n",
    "\n",
    "og_node_data = graph.node_renderer.data_source\n",
    "\n",
    "on_graph_tap_callback = CustomJS(args= dict(node_source = graph.node_renderer.data_source, edge_source = graph.edge_renderer.data_source, og_node_source = og_node_data), code = \"\"\"\n",
    "    var selectedNodes = node_source.selected.indices;\n",
    "    var selectedEdges = edge_source.selected.indices;\n",
    "    const ORIGINAL_NODE_COLOR = '#2b83ba';\n",
    "    var alertMessage = \"\";\n",
    "   \n",
    "    node_source.data['fill_color'].fill(ORIGINAL_NODE_COLOR);\n",
    "    node_source.change.emit();\n",
    "\n",
    "    if(selectedNodes.length > 0 && selectedEdges.length > 0){\n",
    "        selectedEdges = [];\n",
    "        edge_source.selected.indices = selectedEdges; \n",
    "        edge_source.change.emit();\n",
    "    }\n",
    "                           \n",
    "    if(selectedEdges.length > 0){\n",
    "        var startNodes = selectedEdges.map(edge => edge_source.data['start'][edge]);\n",
    "        var endNodes = selectedEdges.map(edge => edge_source.data['end'][edge]);\n",
    "        var weights = selectedEdges.map(edge => edge_source.data['weight'][edge]);\n",
    "                           \n",
    "        startNodes.forEach( node => {\n",
    "            node_source.data['fill_color'][node-1] = 'red';\n",
    "        })\n",
    "        \n",
    "        endNodes.forEach( node => {\n",
    "            node_source.data['fill_color'][node-1] = 'red';\n",
    "        })\n",
    "        node_source.change.emit();     \n",
    "    \n",
    "        const edges = [];\n",
    "        for(var i = 0; i < selectedEdges.length; i++) {\n",
    "            edges[i] = \"(\" + startNodes[i] + \";\" + endNodes[i] + \";\" + weights[i] + \")\";\n",
    "        }\n",
    "        alertMessage = \"Selected edges (start;end;weight): \" + edges.join(\", \");           \n",
    "                              \n",
    "        setTimeout(function() {\n",
    "            window.alert(alertMessage);\n",
    "        }, 200);\n",
    "        \n",
    "    }\n",
    "    \n",
    "    if (selectedNodes.length > 0 && selectedEdges.length == 0) { \n",
    "        const indexes = [];\n",
    "        const startNodes = edge_source.data['start'];\n",
    "        const endNodes = edge_source.data['end'];\n",
    "                \n",
    "        selectedNodes.forEach( node => {\n",
    "            startNodes.forEach((startNode, index) => {\n",
    "                if(startNode === node+1){\n",
    "                    indexes.push(index);\n",
    "                }\n",
    "            });\n",
    "            \n",
    "            endNodes.forEach((endNode, index) => {\n",
    "                if(endNode === node+1){\n",
    "                    indexes.push(index);\n",
    "                }\n",
    "            }); \n",
    "        });\n",
    "\n",
    "        edge_source.selected.indices = indexes;\n",
    "                           \n",
    "        edge_source.change.emit();\n",
    "    }                  \n",
    "    \n",
    "\"\"\")\n",
    "\n",
    "on_plot_tap_callback = CustomJS(args= dict(node_source = graph.node_renderer.data_source, edge_source = graph.edge_renderer.data_source ), code = \"\"\"\n",
    "    const ORIGINAL_NODE_COLOR = '#2b83ba';\n",
    "    var selectedNodes = node_source.selected.indices;\n",
    "    var selectedEdges = edge_source.selected.indices;\n",
    "                    \n",
    "    if(selectedNodes.length == 0 && selectedEdges == 0){\n",
    "        node_source.data['fill_color'].fill(ORIGINAL_NODE_COLOR);\n",
    "        node_source.change.emit();\n",
    "    }\n",
    "\n",
    "\"\"\")\n",
    "\n",
    "\n",
    "p.add_tools(TapTool(renderers = [graph.edge_renderer, graph.node_renderer],callback=on_graph_tap_callback))\n",
    "p.js_on_event('tap', on_plot_tap_callback)\n",
    "\n",
    "slider.js_on_change('value', callback)\n",
    "\n",
    "p.renderers.append(graph)\n",
    "\n",
    "layout = column(p, slider)\n",
    "\n",
    "\n",
    "show(layout)\n",
    "\n",
    "\n"
   ]
  }
 ],
 "metadata": {
  "kernelspec": {
   "display_name": "Python 3 (ipykernel)",
   "language": "python",
   "name": "python3"
  },
  "language_info": {
   "codemirror_mode": {
    "name": "ipython",
    "version": 3
   },
   "file_extension": ".py",
   "mimetype": "text/x-python",
   "name": "python",
   "nbconvert_exporter": "python",
   "pygments_lexer": "ipython3",
   "version": "3.11.4"
  }
 },
 "nbformat": 4,
 "nbformat_minor": 4
}
