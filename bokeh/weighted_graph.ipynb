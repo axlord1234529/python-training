{
 "cells": [
  {
   "cell_type": "code",
   "execution_count": null,
   "metadata": {},
   "outputs": [],
   "source": [
    "import pandas as pd\n",
    "from bokeh.io import output_notebook\n",
    "import networkx as nx\n",
    "from bokeh.plotting import figure, from_networkx, show\n",
    "from bokeh.palettes import Category20_18\n",
    "\n",
    "\n",
    "\n",
    "output_notebook()"
   ]
  },
  {
   "cell_type": "code",
   "execution_count": null,
   "metadata": {},
   "outputs": [],
   "source": [
    "df = pd.read_csv('D13_graph4.csv')\n",
    "df"
   ]
  },
  {
   "cell_type": "code",
   "execution_count": null,
   "metadata": {},
   "outputs": [],
   "source": [
    "df[['ID1', 'ID2','weight' ]] = df['ID1;ID2;weight'].str.split(';', expand=True)\n",
    "df.drop(columns='ID1;ID2;weight', axis=1, inplace= True)\n",
    "df = df.astype('int32')\n",
    "df"
   ]
  },
  {
   "cell_type": "code",
   "execution_count": null,
   "metadata": {},
   "outputs": [],
   "source": [
    "from bokeh.models import (BoxSelectTool, Circle, EdgesAndLinkedNodes,NodesAndLinkedEdges,\n",
    "                          HoverTool, MultiLine, Plot, Range1d, TapTool)\n",
    "from bokeh.palettes import Spectral4\n",
    "\n",
    "G = nx.from_pandas_edgelist(df=df,source='ID1', target='ID2', edge_attr=['weight'])\n",
    "\n",
    "\n",
    "p = Plot(width= 700, height = 700, title = 'Nodes are clickable and you can hover over edges and nodes')\n",
    "p.grid.grid_line_color = None\n",
    "\n",
    "graph = from_networkx(G, nx.circular_layout, scale=1.8, center=(0,0))\n",
    "\n",
    "p.add_tools(TapTool(),BoxSelectTool())\n",
    "p.add_tools(HoverTool(renderers=[graph.edge_renderer], tooltips=[('Node 1', '@start'), ('Node 2', '@end'), ('Weight', '@weight')]))\n",
    "p.add_tools(HoverTool(renderers=[graph.node_renderer], tooltips=[('Node', '@index')]))\n",
    "\n",
    "graph.node_renderer.glyph = Circle(size=20, fill_color=Spectral4[0])\n",
    "graph.node_renderer.selection_glyph = Circle(size=15, fill_color=Spectral4[2])\n",
    "graph.node_renderer.hover_glyph = Circle(size=15, fill_color=Spectral4[1])\n",
    "graph.node_renderer.data_source.data = dict(\n",
    "    index = list(range(len(G)))\n",
    ")\n",
    "\n",
    "graph.edge_renderer.glyph = MultiLine(line_color=\"#808080\", line_alpha=0.5, line_width=2)\n",
    "graph.edge_renderer.selection_glyph = MultiLine(line_color=Spectral4[2], line_width=2)\n",
    "graph.edge_renderer.hover_glyph = MultiLine(line_color=Spectral4[1], line_width=2)\n",
    "\n",
    "\n",
    "graph.selection_policy = NodesAndLinkedEdges()\n",
    "graph.inspection_policy = EdgesAndLinkedNodes()\n",
    "\n",
    "graph.node_renderer.data_source.data['index'] = list(range(1,len(G)+1))\n",
    "\n",
    "p.renderers.append(graph)\n",
    "\n",
    "show(p)\n",
    "\n"
   ]
  }
 ],
 "metadata": {
  "kernelspec": {
   "display_name": "Python 3",
   "language": "python",
   "name": "python3"
  },
  "language_info": {
   "codemirror_mode": {
    "name": "ipython",
    "version": 3
   },
   "file_extension": ".py",
   "mimetype": "text/x-python",
   "name": "python",
   "nbconvert_exporter": "python",
   "pygments_lexer": "ipython3",
   "version": "3.11.4"
  },
  "orig_nbformat": 4
 },
 "nbformat": 4,
 "nbformat_minor": 2
}
