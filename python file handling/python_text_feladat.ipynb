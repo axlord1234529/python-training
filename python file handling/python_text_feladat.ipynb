{
 "cells": [
  {
   "cell_type": "markdown",
   "metadata": {},
   "source": [
    "# Szöveg manipulációs feladat "
   ]
  },
  {
   "cell_type": "code",
   "execution_count": null,
   "metadata": {},
   "outputs": [],
   "source": [
    "# Olvassa be a dokumentumot egy text-be (figyeljen a karakter-kódolásra, UTF-8)"
   ]
  },
  {
   "cell_type": "code",
   "execution_count": null,
   "metadata": {},
   "outputs": [],
   "source": [
    "with open(\"Pride and Prejudice.txt\", mode=\"r\", encoding=\"utf-8\") as og_file:\n",
    "    with open(\"mod_0.txt\", mode=\"w\", encoding=\"utf-8\") as new_file:\n",
    "        for line in og_file:\n",
    "            new_file.write(line)"
   ]
  },
  {
   "cell_type": "code",
   "execution_count": null,
   "metadata": {},
   "outputs": [],
   "source": [
    "# írja ki, milyen hosszú a beolvasott állomány"
   ]
  },
  {
   "cell_type": "code",
   "execution_count": null,
   "metadata": {},
   "outputs": [],
   "source": [
    "with open(\"mod_0.txt\", mode=\"r\", encoding=\"utf-8\") as file:\n",
    "        rows = 0\n",
    "        for line in file:\n",
    "            rows += 1\n",
    "        print(rows)"
   ]
  },
  {
   "cell_type": "code",
   "execution_count": null,
   "metadata": {},
   "outputs": [],
   "source": [
    "# Távolítsa el a nem alfanumerikus karaktereket, és cserélje ki a ' és \\n karaktereket szóközzel\n",
    "# (vigyázzon, mert sok fura karakter van a szövegben)"
   ]
  },
  {
   "cell_type": "code",
   "execution_count": null,
   "metadata": {},
   "outputs": [],
   "source": [
    "with open(\"mod_0.txt\", mode=\"r\", encoding=\"utf-8\") as og_file:\n",
    "    with open(\"mod_1.txt\", mode=\"w\", encoding=\"utf-8\") as new_file:\n",
    "        for line in og_file:\n",
    "            for ch in line:\n",
    "                if not ch.isalnum() and ch != \" \":\n",
    "                    if ch == \"’\" or ch == \"\\n\" or ch ==\"—\":\n",
    "                        line = line.replace(ch,\" \")\n",
    "                    else:\n",
    "                        line = line.replace(ch,\"\")\n",
    "            new_file.write(line)"
   ]
  },
  {
   "cell_type": "code",
   "execution_count": null,
   "metadata": {},
   "outputs": [],
   "source": [
    "# Konvertálja az összes betűt kisbetűvé"
   ]
  },
  {
   "cell_type": "code",
   "execution_count": null,
   "metadata": {},
   "outputs": [],
   "source": [
    "with open(\"mod_1.txt\", mode=\"r\", encoding=\"utf-8\") as og_file:\n",
    "    with open(\"mod_2.txt\", mode=\"w\", encoding=\"utf-8\") as new_file:\n",
    "        for line in og_file:\n",
    "            new_file.write(line.lower())"
   ]
  },
  {
   "cell_type": "code",
   "execution_count": null,
   "metadata": {},
   "outputs": [],
   "source": [
    "# Ossza fel szavakra a dokumentumot -> egy listába"
   ]
  },
  {
   "cell_type": "code",
   "execution_count": null,
   "metadata": {},
   "outputs": [],
   "source": [
    "words = list()\n",
    "with open(\"mod_2.txt\", mode=\"r\", encoding=\"utf-8\") as og_file:\n",
    "    for line in og_file:\n",
    "        for word in line.split():\n",
    "            words.append(word)\n",
    "print(words)"
   ]
  },
  {
   "cell_type": "code",
   "execution_count": null,
   "metadata": {},
   "outputs": [],
   "source": [
    "# Feladat első része:\n",
    "# Távolítsa el a listából a 4 vagy kevesebb karakterből álló szavakat (akár új listát is is készíthet a hosszabb szavakból)"
   ]
  },
  {
   "cell_type": "code",
   "execution_count": null,
   "metadata": {},
   "outputs": [],
   "source": [
    "words = list(filter(lambda x: len(x) > 4, words))\n",
    "print(words)"
   ]
  },
  {
   "cell_type": "code",
   "execution_count": null,
   "metadata": {},
   "outputs": [],
   "source": [
    "# Definiáljon egy szótárat: szó:előfordulás száma. Számolja meg az egyes szavak előfordulását, és írja be egy szótárba. "
   ]
  },
  {
   "cell_type": "code",
   "execution_count": null,
   "metadata": {},
   "outputs": [],
   "source": [
    "word_count = dict()\n",
    "for word in words:\n",
    "    if word in word_count:\n",
    "         word_count[word] += 1\n",
    "    else:\n",
    "        word_count[word] = 1\n",
    "\n",
    "print(word_count)"
   ]
  },
  {
   "cell_type": "code",
   "execution_count": null,
   "metadata": {},
   "outputs": [],
   "source": [
    "# rakja előfordulási darabszám szerint csökkenő sorrendbe a dictionary tételeit és írja ki (listázza ki) az első 10 leggyakoribb szót"
   ]
  },
  {
   "cell_type": "code",
   "execution_count": null,
   "metadata": {},
   "outputs": [],
   "source": [
    "sorted_dict = sorted(word_count.items(), key= lambda item: item[1],reverse=True)\n",
    "for i in range(10):\n",
    "    print(f\"{sorted_dict[i][0]}: {sorted_dict[i][1]}\")"
   ]
  },
  {
   "cell_type": "code",
   "execution_count": null,
   "metadata": {},
   "outputs": [],
   "source": [
    "# Feladat második része\n",
    "# Vegye elő ismét az eredeti listát (amit először elkészített a szövegből)!"
   ]
  },
  {
   "cell_type": "code",
   "execution_count": null,
   "metadata": {},
   "outputs": [],
   "source": [
    "words = list()\n",
    "with open(\"mod_2.txt\", mode=\"r\", encoding=\"utf-8\") as og_file:\n",
    "    for line in og_file:\n",
    "        for word in line.split():\n",
    "            words.append(word)\n",
    "print(words)"
   ]
  },
  {
   "cell_type": "code",
   "execution_count": null,
   "metadata": {},
   "outputs": [],
   "source": [
    "# Definiáljon egy újabb szótárat. Számolja meg az egyes szavak hosszát, és írja be ebbe az új szótárba: szó : hossz kulcs:érték párokat. "
   ]
  },
  {
   "cell_type": "code",
   "execution_count": null,
   "metadata": {},
   "outputs": [],
   "source": [
    "word_length = {word:len(word) for word in words}\n",
    "print(word_length)"
   ]
  },
  {
   "cell_type": "code",
   "execution_count": null,
   "metadata": {},
   "outputs": [],
   "source": [
    "# rakja hossz szerint csökkenő sorrendbe ennek az új dictionary-nak a tételeit"
   ]
  },
  {
   "cell_type": "code",
   "execution_count": null,
   "metadata": {},
   "outputs": [],
   "source": [
    "sorted_word_length = sorted(word_length.items(),key=lambda item: item[1], reverse=True)"
   ]
  },
  {
   "cell_type": "code",
   "execution_count": null,
   "metadata": {},
   "outputs": [],
   "source": [
    "# listázza ki ennek az új dictionary-nak az első 10 tételét"
   ]
  },
  {
   "cell_type": "code",
   "execution_count": null,
   "metadata": {},
   "outputs": [],
   "source": [
    "for i in range(10):\n",
    "    print(sorted_word_length[i])"
   ]
  }
 ],
 "metadata": {
  "kernelspec": {
   "display_name": "Python 3 (ipykernel)",
   "language": "python",
   "name": "python3"
  },
  "language_info": {
   "codemirror_mode": {
    "name": "ipython",
    "version": 3
   },
   "file_extension": ".py",
   "mimetype": "text/x-python",
   "name": "python",
   "nbconvert_exporter": "python",
   "pygments_lexer": "ipython3",
   "version": "3.11.4"
  }
 },
 "nbformat": 4,
 "nbformat_minor": 2
}
